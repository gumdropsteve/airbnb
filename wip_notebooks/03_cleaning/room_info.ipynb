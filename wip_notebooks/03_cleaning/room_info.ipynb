{
 "cells": [
  {
   "cell_type": "markdown",
   "metadata": {},
   "source": [
    "# Extracting Room Info\n",
    "Already added `room_info.split(' · ')`."
   ]
  },
  {
   "cell_type": "code",
   "execution_count": 2,
   "metadata": {},
   "outputs": [
    {
     "data": {
      "text/plain": [
       "0          ['6 guests', '1 bedroom', '2 beds', '1 bath']\n",
       "1          ['4 guests', '1 bedroom', '2 beds', '1 bath']\n",
       "2            ['2 guests', 'Studio', '2 beds', '0 baths']\n",
       "3           ['4 guests', 'Studio', '1 bed', 'Half-bath']\n",
       "4      ['2 guests', '1 bedroom', '1 bed', '1 shared b...\n",
       "                             ...                        \n",
       "295           ['4 guests', 'Studio', '2 beds', '1 bath']\n",
       "296         ['4 guests', '1 bedroom', '1 bed', '1 bath']\n",
       "297    ['2 guests', '1 bedroom', '1 bed', '1 shared b...\n",
       "298        ['4 guests', '1 bedroom', '3 beds', '1 bath']\n",
       "299      ['6 guests', '2 bedrooms', '3 beds', '2 baths']\n",
       "Name: room_info, Length: 300, dtype: object"
      ]
     },
     "execution_count": 2,
     "metadata": {},
     "output_type": "execute_result"
    }
   ],
   "source": [
    "import pandas as pd\n",
    "\n",
    "df = pd.read_csv('alaska_entire_home_super_hosts_2021-01-09.csv')\n",
    "\n",
    "df.room_info"
   ]
  },
  {
   "cell_type": "code",
   "execution_count": 4,
   "metadata": {},
   "outputs": [
    {
     "data": {
      "text/plain": [
       "\"['6 guests', '1 bedroom', '2 beds', '1 bath']\""
      ]
     },
     "execution_count": 4,
     "metadata": {},
     "output_type": "execute_result"
    }
   ],
   "source": [
    "df.room_info[0]"
   ]
  },
  {
   "cell_type": "code",
   "execution_count": 5,
   "metadata": {},
   "outputs": [
    {
     "data": {
      "text/plain": [
       "str"
      ]
     },
     "execution_count": 5,
     "metadata": {},
     "output_type": "execute_result"
    }
   ],
   "source": [
    "type(df.room_info[0])"
   ]
  },
  {
   "cell_type": "code",
   "execution_count": 7,
   "metadata": {},
   "outputs": [
    {
     "data": {
      "text/plain": [
       "\"['6 guests', '1 bedroom', '2 beds', '1 bath']\""
      ]
     },
     "execution_count": 7,
     "metadata": {},
     "output_type": "execute_result"
    }
   ],
   "source": [
    "room = df.room_info[0]\n",
    "\n",
    "room"
   ]
  },
  {
   "cell_type": "code",
   "execution_count": 13,
   "metadata": {},
   "outputs": [
    {
     "data": {
      "text/plain": [
       "['[', '6 guests', ', ', '1 bedroom', ', ', '2 beds', ', ', '1 bath', ']']"
      ]
     },
     "execution_count": 13,
     "metadata": {},
     "output_type": "execute_result"
    }
   ],
   "source": [
    "room.split(\"'\")"
   ]
  },
  {
   "cell_type": "code",
   "execution_count": 14,
   "metadata": {},
   "outputs": [
    {
     "data": {
      "text/plain": [
       "9"
      ]
     },
     "execution_count": 14,
     "metadata": {},
     "output_type": "execute_result"
    }
   ],
   "source": [
    "len(room.split(\"'\"))"
   ]
  },
  {
   "cell_type": "code",
   "execution_count": 15,
   "metadata": {},
   "outputs": [
    {
     "data": {
      "text/plain": [
       "'6 guests'"
      ]
     },
     "execution_count": 15,
     "metadata": {},
     "output_type": "execute_result"
    }
   ],
   "source": [
    "room.split(\"'\")[1]"
   ]
  },
  {
   "cell_type": "code",
   "execution_count": 18,
   "metadata": {},
   "outputs": [
    {
     "data": {
      "text/plain": [
       "['[', '6 guests', ', ', '1 bedroom', ', ', '2 beds', ', ', '1 bath', ']']"
      ]
     },
     "execution_count": 18,
     "metadata": {},
     "output_type": "execute_result"
    }
   ],
   "source": [
    "split_info = room.split(\"'\")\n",
    "\n",
    "split_info"
   ]
  },
  {
   "cell_type": "code",
   "execution_count": 22,
   "metadata": {},
   "outputs": [
    {
     "data": {
      "text/plain": [
       "['6 guests', '1 bedroom', '2 beds', '1 bath']"
      ]
     },
     "execution_count": 22,
     "metadata": {},
     "output_type": "execute_result"
    }
   ],
   "source": [
    "split_info = [i for i in room.split(\"'\") if i not in '[], ']\n",
    "split_info"
   ]
  },
  {
   "cell_type": "code",
   "execution_count": 23,
   "metadata": {},
   "outputs": [
    {
     "data": {
      "text/plain": [
       "[['6', 'guests'], ['1', 'bedroom'], ['2', 'beds'], ['1', 'bath']]"
      ]
     },
     "execution_count": 23,
     "metadata": {},
     "output_type": "execute_result"
    }
   ],
   "source": [
    "split_info = [i.split() for i in room.split(\"'\") if i not in '[], ']\n",
    "split_info"
   ]
  },
  {
   "cell_type": "code",
   "execution_count": 25,
   "metadata": {},
   "outputs": [
    {
     "data": {
      "text/plain": [
       "{'guests': '6', 'bedroom': '1', 'beds': '2', 'bath': '1'}"
      ]
     },
     "execution_count": 25,
     "metadata": {},
     "output_type": "execute_result"
    }
   ],
   "source": [
    "split_info = [i.split() for i in room.split(\"'\") if i not in '[], ']\n",
    "split_info = {i[1]:i[0] for i in split_info}\n",
    "split_info"
   ]
  },
  {
   "cell_type": "markdown",
   "metadata": {},
   "source": [
    "On different rooms... (verification)"
   ]
  },
  {
   "cell_type": "code",
   "execution_count": 27,
   "metadata": {},
   "outputs": [
    {
     "name": "stdout",
     "output_type": "stream",
     "text": [
      "{'guests': '3', 'bedroom': '1', 'beds': '2', 'baths': '0'}\n",
      "{'guests': '4', 'bedroom': '1', 'beds': '3', 'bath': '1'}\n",
      "{'guests': '3', 'bedroom': '1', 'bed': '1', 'bath': '1'}\n",
      "{'guests': '4', 'bedrooms': '2', 'beds': '2', 'bath': '1'}\n"
     ]
    },
    {
     "ename": "IndexError",
     "evalue": "list index out of range",
     "output_type": "error",
     "traceback": [
      "\u001b[1;31m---------------------------------------------------------------------------\u001b[0m",
      "\u001b[1;31mIndexError\u001b[0m                                Traceback (most recent call last)",
      "\u001b[1;32m<ipython-input-27-9bad7c8d4dd8>\u001b[0m in \u001b[0;36m<module>\u001b[1;34m\u001b[0m\n\u001b[0;32m      1\u001b[0m \u001b[1;32mfor\u001b[0m \u001b[0mroom\u001b[0m \u001b[1;32min\u001b[0m \u001b[0mdf\u001b[0m\u001b[1;33m.\u001b[0m\u001b[0mroom_info\u001b[0m\u001b[1;33m.\u001b[0m\u001b[0msample\u001b[0m\u001b[1;33m(\u001b[0m\u001b[1;36m5\u001b[0m\u001b[1;33m)\u001b[0m\u001b[1;33m:\u001b[0m\u001b[1;33m\u001b[0m\u001b[1;33m\u001b[0m\u001b[0m\n\u001b[0;32m      2\u001b[0m     \u001b[0msplit_info\u001b[0m \u001b[1;33m=\u001b[0m \u001b[1;33m[\u001b[0m\u001b[0mi\u001b[0m\u001b[1;33m.\u001b[0m\u001b[0msplit\u001b[0m\u001b[1;33m(\u001b[0m\u001b[1;33m)\u001b[0m \u001b[1;32mfor\u001b[0m \u001b[0mi\u001b[0m \u001b[1;32min\u001b[0m \u001b[0mroom\u001b[0m\u001b[1;33m.\u001b[0m\u001b[0msplit\u001b[0m\u001b[1;33m(\u001b[0m\u001b[1;34m\"'\"\u001b[0m\u001b[1;33m)\u001b[0m \u001b[1;32mif\u001b[0m \u001b[0mi\u001b[0m \u001b[1;32mnot\u001b[0m \u001b[1;32min\u001b[0m \u001b[1;34m'[], '\u001b[0m\u001b[1;33m]\u001b[0m\u001b[1;33m\u001b[0m\u001b[1;33m\u001b[0m\u001b[0m\n\u001b[1;32m----> 3\u001b[1;33m     \u001b[0msplit_info\u001b[0m \u001b[1;33m=\u001b[0m \u001b[1;33m{\u001b[0m\u001b[0mi\u001b[0m\u001b[1;33m[\u001b[0m\u001b[1;36m1\u001b[0m\u001b[1;33m]\u001b[0m\u001b[1;33m:\u001b[0m\u001b[0mi\u001b[0m\u001b[1;33m[\u001b[0m\u001b[1;36m0\u001b[0m\u001b[1;33m]\u001b[0m \u001b[1;32mfor\u001b[0m \u001b[0mi\u001b[0m \u001b[1;32min\u001b[0m \u001b[0msplit_info\u001b[0m\u001b[1;33m}\u001b[0m\u001b[1;33m\u001b[0m\u001b[1;33m\u001b[0m\u001b[0m\n\u001b[0m\u001b[0;32m      4\u001b[0m     \u001b[0mprint\u001b[0m\u001b[1;33m(\u001b[0m\u001b[0msplit_info\u001b[0m\u001b[1;33m)\u001b[0m\u001b[1;33m\u001b[0m\u001b[1;33m\u001b[0m\u001b[0m\n",
      "\u001b[1;32m<ipython-input-27-9bad7c8d4dd8>\u001b[0m in \u001b[0;36m<dictcomp>\u001b[1;34m(.0)\u001b[0m\n\u001b[0;32m      1\u001b[0m \u001b[1;32mfor\u001b[0m \u001b[0mroom\u001b[0m \u001b[1;32min\u001b[0m \u001b[0mdf\u001b[0m\u001b[1;33m.\u001b[0m\u001b[0mroom_info\u001b[0m\u001b[1;33m.\u001b[0m\u001b[0msample\u001b[0m\u001b[1;33m(\u001b[0m\u001b[1;36m5\u001b[0m\u001b[1;33m)\u001b[0m\u001b[1;33m:\u001b[0m\u001b[1;33m\u001b[0m\u001b[1;33m\u001b[0m\u001b[0m\n\u001b[0;32m      2\u001b[0m     \u001b[0msplit_info\u001b[0m \u001b[1;33m=\u001b[0m \u001b[1;33m[\u001b[0m\u001b[0mi\u001b[0m\u001b[1;33m.\u001b[0m\u001b[0msplit\u001b[0m\u001b[1;33m(\u001b[0m\u001b[1;33m)\u001b[0m \u001b[1;32mfor\u001b[0m \u001b[0mi\u001b[0m \u001b[1;32min\u001b[0m \u001b[0mroom\u001b[0m\u001b[1;33m.\u001b[0m\u001b[0msplit\u001b[0m\u001b[1;33m(\u001b[0m\u001b[1;34m\"'\"\u001b[0m\u001b[1;33m)\u001b[0m \u001b[1;32mif\u001b[0m \u001b[0mi\u001b[0m \u001b[1;32mnot\u001b[0m \u001b[1;32min\u001b[0m \u001b[1;34m'[], '\u001b[0m\u001b[1;33m]\u001b[0m\u001b[1;33m\u001b[0m\u001b[1;33m\u001b[0m\u001b[0m\n\u001b[1;32m----> 3\u001b[1;33m     \u001b[0msplit_info\u001b[0m \u001b[1;33m=\u001b[0m \u001b[1;33m{\u001b[0m\u001b[0mi\u001b[0m\u001b[1;33m[\u001b[0m\u001b[1;36m1\u001b[0m\u001b[1;33m]\u001b[0m\u001b[1;33m:\u001b[0m\u001b[0mi\u001b[0m\u001b[1;33m[\u001b[0m\u001b[1;36m0\u001b[0m\u001b[1;33m]\u001b[0m \u001b[1;32mfor\u001b[0m \u001b[0mi\u001b[0m \u001b[1;32min\u001b[0m \u001b[0msplit_info\u001b[0m\u001b[1;33m}\u001b[0m\u001b[1;33m\u001b[0m\u001b[1;33m\u001b[0m\u001b[0m\n\u001b[0m\u001b[0;32m      4\u001b[0m     \u001b[0mprint\u001b[0m\u001b[1;33m(\u001b[0m\u001b[0msplit_info\u001b[0m\u001b[1;33m)\u001b[0m\u001b[1;33m\u001b[0m\u001b[1;33m\u001b[0m\u001b[0m\n",
      "\u001b[1;31mIndexError\u001b[0m: list index out of range"
     ]
    }
   ],
   "source": [
    "for room in df.room_info.sample(5): \n",
    "    split_info = [i.split() for i in room.split(\"'\") if i not in '[], ']\n",
    "    split_info = {i[1]:i[0] for i in split_info}\n",
    "    print(split_info)"
   ]
  },
  {
   "cell_type": "code",
   "execution_count": 30,
   "metadata": {},
   "outputs": [
    {
     "name": "stdout",
     "output_type": "stream",
     "text": [
      "[['4', 'guests'], ['1', 'bedroom'], ['1', 'bed'], ['1', 'private', 'bath']]\n",
      "[['6', 'guests'], ['2', 'bedrooms'], ['3', 'beds'], ['2.5', 'baths']]\n",
      "[['2', 'guests'], ['1', 'bedroom'], ['1', 'bed'], ['1', 'bath']]\n",
      "[['2', 'guests'], ['Studio'], ['1', 'bed'], ['1', 'bath']]\n",
      "[['2', 'guests'], ['Studio'], ['1', 'bed'], ['Half-bath']]\n"
     ]
    }
   ],
   "source": [
    "for room in df.room_info.sample(5): \n",
    "    split_info = [i.split() for i in room.split(\"'\") if i not in '[], ']\n",
    "#     split_info = {i[1]:i[0] for i in split_info}\n",
    "    print(split_info)"
   ]
  },
  {
   "cell_type": "code",
   "execution_count": 50,
   "metadata": {},
   "outputs": [
    {
     "name": "stdout",
     "output_type": "stream",
     "text": [
      "[['2', 'guests'], ['1', 'bedroom'], ['0', 'beds'], ['Half-bath']]\n",
      "[['4', 'guests'], ['1', 'bedroom'], ['1', 'bed'], ['1', 'bath']]\n",
      "[['2', 'guests'], ['Studio'], ['1', 'bed'], ['1', 'bath']]\n",
      "[['2', 'guests'], ['Studio'], ['1', 'bed'], ['0', 'baths']]\n",
      "[['3', 'guests'], ['Studio'], ['2', 'beds'], ['0', 'baths']]\n",
      "[['1', 'guest'], ['1', 'bedroom'], ['1', 'bed'], ['2', 'shared', 'baths']]\n",
      "[['1', 'guest'], ['1', 'bedroom'], ['1', 'bed'], ['1', 'shared', 'bath']]\n",
      "[['1', 'guest'], ['1', 'bedroom'], ['6', 'beds'], ['2', 'shared', 'baths']]\n",
      "[['2', 'guests'], ['1', 'bedroom'], ['1', 'bed'], ['1', 'bath']]\n",
      "[['2', 'guests'], ['1', 'bedroom'], ['1', 'bed'], ['1', 'bath']]\n",
      "[['2', 'guests'], ['Studio'], ['1', 'bed'], ['Half-bath']]\n",
      "[['3', 'guests'], ['1', 'bedroom'], ['2', 'beds'], ['0', 'baths']]\n",
      "[['5', 'guests'], ['1', 'bedroom'], ['3', 'beds'], ['1', 'bath']]\n",
      "[['2', 'guests'], ['1', 'bedroom'], ['1', 'bed'], ['1', 'bath']]\n",
      "[['4', 'guests'], ['2', 'bedrooms'], ['2', 'beds'], ['1.5', 'baths']]\n"
     ]
    }
   ],
   "source": [
    "for room in df.room_info.sample(15): \n",
    "    split_info = [i.split() for i in room.split(\"'\") if i not in '[], ']\n",
    "#     split_info = {i[1]:i[0] for i in split_info}\n",
    "    print(split_info)"
   ]
  },
  {
   "cell_type": "markdown",
   "metadata": {},
   "source": [
    "add check for `['Studio']` (0 rooms)."
   ]
  },
  {
   "cell_type": "code",
   "execution_count": 68,
   "metadata": {},
   "outputs": [
    {
     "ename": "IndexError",
     "evalue": "list index out of range",
     "output_type": "error",
     "traceback": [
      "\u001b[1;31m---------------------------------------------------------------------------\u001b[0m",
      "\u001b[1;31mIndexError\u001b[0m                                Traceback (most recent call last)",
      "\u001b[1;32m<ipython-input-68-4b0a5d80f46a>\u001b[0m in \u001b[0;36m<module>\u001b[1;34m\u001b[0m\n\u001b[0;32m      2\u001b[0m     \u001b[0msplit_info\u001b[0m \u001b[1;33m=\u001b[0m \u001b[1;33m[\u001b[0m\u001b[0mi\u001b[0m\u001b[1;33m.\u001b[0m\u001b[0msplit\u001b[0m\u001b[1;33m(\u001b[0m\u001b[1;33m)\u001b[0m \u001b[1;32mfor\u001b[0m \u001b[0mi\u001b[0m \u001b[1;32min\u001b[0m \u001b[0mroom\u001b[0m\u001b[1;33m.\u001b[0m\u001b[0msplit\u001b[0m\u001b[1;33m(\u001b[0m\u001b[1;34m\"'\"\u001b[0m\u001b[1;33m)\u001b[0m \u001b[1;32mif\u001b[0m \u001b[0mi\u001b[0m \u001b[1;32mnot\u001b[0m \u001b[1;32min\u001b[0m \u001b[1;34m'[], '\u001b[0m\u001b[1;33m]\u001b[0m\u001b[1;33m\u001b[0m\u001b[1;33m\u001b[0m\u001b[0m\n\u001b[0;32m      3\u001b[0m     \u001b[1;31m# add check for 'Studio' (0 rooms)\u001b[0m\u001b[1;33m\u001b[0m\u001b[1;33m\u001b[0m\u001b[1;33m\u001b[0m\u001b[0m\n\u001b[1;32m----> 4\u001b[1;33m     \u001b[0msplit_info\u001b[0m \u001b[1;33m=\u001b[0m \u001b[1;33m{\u001b[0m\u001b[0mi\u001b[0m\u001b[1;33m[\u001b[0m\u001b[1;36m1\u001b[0m\u001b[1;33m]\u001b[0m\u001b[1;33m:\u001b[0m\u001b[0mi\u001b[0m\u001b[1;33m[\u001b[0m\u001b[1;36m0\u001b[0m\u001b[1;33m]\u001b[0m \u001b[1;32mif\u001b[0m \u001b[0mi\u001b[0m \u001b[1;33m!=\u001b[0m \u001b[1;33m[\u001b[0m\u001b[1;34m'Studio'\u001b[0m\u001b[1;33m]\u001b[0m \u001b[1;32melse\u001b[0m \u001b[0mi\u001b[0m \u001b[1;32mfor\u001b[0m \u001b[0mi\u001b[0m \u001b[1;32min\u001b[0m \u001b[0msplit_info\u001b[0m\u001b[1;33m}\u001b[0m\u001b[1;33m\u001b[0m\u001b[1;33m\u001b[0m\u001b[0m\n\u001b[0m\u001b[0;32m      5\u001b[0m     \u001b[0mprint\u001b[0m\u001b[1;33m(\u001b[0m\u001b[0msplit_info\u001b[0m\u001b[1;33m)\u001b[0m\u001b[1;33m\u001b[0m\u001b[1;33m\u001b[0m\u001b[0m\n",
      "\u001b[1;32m<ipython-input-68-4b0a5d80f46a>\u001b[0m in \u001b[0;36m<dictcomp>\u001b[1;34m(.0)\u001b[0m\n\u001b[0;32m      2\u001b[0m     \u001b[0msplit_info\u001b[0m \u001b[1;33m=\u001b[0m \u001b[1;33m[\u001b[0m\u001b[0mi\u001b[0m\u001b[1;33m.\u001b[0m\u001b[0msplit\u001b[0m\u001b[1;33m(\u001b[0m\u001b[1;33m)\u001b[0m \u001b[1;32mfor\u001b[0m \u001b[0mi\u001b[0m \u001b[1;32min\u001b[0m \u001b[0mroom\u001b[0m\u001b[1;33m.\u001b[0m\u001b[0msplit\u001b[0m\u001b[1;33m(\u001b[0m\u001b[1;34m\"'\"\u001b[0m\u001b[1;33m)\u001b[0m \u001b[1;32mif\u001b[0m \u001b[0mi\u001b[0m \u001b[1;32mnot\u001b[0m \u001b[1;32min\u001b[0m \u001b[1;34m'[], '\u001b[0m\u001b[1;33m]\u001b[0m\u001b[1;33m\u001b[0m\u001b[1;33m\u001b[0m\u001b[0m\n\u001b[0;32m      3\u001b[0m     \u001b[1;31m# add check for 'Studio' (0 rooms)\u001b[0m\u001b[1;33m\u001b[0m\u001b[1;33m\u001b[0m\u001b[1;33m\u001b[0m\u001b[0m\n\u001b[1;32m----> 4\u001b[1;33m     \u001b[0msplit_info\u001b[0m \u001b[1;33m=\u001b[0m \u001b[1;33m{\u001b[0m\u001b[0mi\u001b[0m\u001b[1;33m[\u001b[0m\u001b[1;36m1\u001b[0m\u001b[1;33m]\u001b[0m\u001b[1;33m:\u001b[0m\u001b[0mi\u001b[0m\u001b[1;33m[\u001b[0m\u001b[1;36m0\u001b[0m\u001b[1;33m]\u001b[0m \u001b[1;32mif\u001b[0m \u001b[0mi\u001b[0m \u001b[1;33m!=\u001b[0m \u001b[1;33m[\u001b[0m\u001b[1;34m'Studio'\u001b[0m\u001b[1;33m]\u001b[0m \u001b[1;32melse\u001b[0m \u001b[0mi\u001b[0m \u001b[1;32mfor\u001b[0m \u001b[0mi\u001b[0m \u001b[1;32min\u001b[0m \u001b[0msplit_info\u001b[0m\u001b[1;33m}\u001b[0m\u001b[1;33m\u001b[0m\u001b[1;33m\u001b[0m\u001b[0m\n\u001b[0m\u001b[0;32m      5\u001b[0m     \u001b[0mprint\u001b[0m\u001b[1;33m(\u001b[0m\u001b[0msplit_info\u001b[0m\u001b[1;33m)\u001b[0m\u001b[1;33m\u001b[0m\u001b[1;33m\u001b[0m\u001b[0m\n",
      "\u001b[1;31mIndexError\u001b[0m: list index out of range"
     ]
    }
   ],
   "source": [
    "for room in df.room_info.sample(15): \n",
    "    split_info = [i.split() for i in room.split(\"'\") if i not in '[], ']\n",
    "    # add check for 'Studio' (0 rooms)\n",
    "    split_info = {i[1]:i[0] if i != ['Studio'] else i for i in split_info}\n",
    "    print(split_info)"
   ]
  },
  {
   "cell_type": "code",
   "execution_count": 66,
   "metadata": {},
   "outputs": [
    {
     "data": {
      "text/plain": [
       "[['4', 'guests'],\n",
       " ['1', 'bedroom'],\n",
       " ['2', 'beds'],\n",
       " ['1', 'bath'],\n",
       " ['6', 'guests'],\n",
       " ['2', 'bedrooms'],\n",
       " ['3', 'beds'],\n",
       " ['1', 'bath'],\n",
       " ['5', 'guests'],\n",
       " ['3', 'beds'],\n",
       " ['Half-bath'],\n",
       " ['8', 'guests'],\n",
       " ['2', 'bedrooms'],\n",
       " ['3', 'beds'],\n",
       " ['1', 'bath'],\n",
       " ['4', 'guests'],\n",
       " ['1', 'bedroom'],\n",
       " ['1', 'bed'],\n",
       " ['1', 'bath'],\n",
       " ['6', 'guests'],\n",
       " ['2', 'bedrooms'],\n",
       " ['1', 'bed'],\n",
       " ['2', 'baths'],\n",
       " ['4', 'guests'],\n",
       " ['1', 'bedroom'],\n",
       " ['2', 'beds'],\n",
       " ['1', 'bath'],\n",
       " ['6', 'guests'],\n",
       " ['2', 'bedrooms'],\n",
       " ['2', 'beds'],\n",
       " ['1.5', 'baths'],\n",
       " ['5', 'guests'],\n",
       " ['2', 'bedrooms'],\n",
       " ['2', 'beds'],\n",
       " ['1', 'bath'],\n",
       " ['1', 'guest'],\n",
       " ['3', 'bedrooms'],\n",
       " ['4', 'beds'],\n",
       " ['2', 'baths']]"
      ]
     },
     "execution_count": 66,
     "metadata": {},
     "output_type": "execute_result"
    }
   ],
   "source": [
    "new_list = []\n",
    "for room in df.room_info.sample(10): \n",
    "    split_info = [i.split() for i in room.split(\"'\") if i not in '[], ']\n",
    "    for i in split_info:\n",
    "        if i != ['Studio']:\n",
    "            try:\n",
    "                new_list.append(i)\n",
    "            except:\n",
    "                print(i)\n",
    "                \n",
    "                \n",
    "new_list"
   ]
  },
  {
   "cell_type": "markdown",
   "metadata": {},
   "source": [
    "Add check for `['Half-bath']`."
   ]
  },
  {
   "cell_type": "code",
   "execution_count": 69,
   "metadata": {},
   "outputs": [
    {
     "name": "stdout",
     "output_type": "stream",
     "text": [
      "{'guests': '6', 'bedroom': '1', 'beds': '2', 'bath': '1'}\n",
      "{'guests': '4', 'bedroom': '1', 'bed': '1', 'bath': '1'}\n",
      "{'guests': '2', 'bedroom': '1', 'bed': '1', 'bath': '1'}\n",
      "{'guests': '8', 'bedrooms': '2', 'beds': '4', 'bath': '1'}\n",
      "{'guests': '12', 'bedrooms': '4', 'beds': '5', 'baths': '2'}\n",
      "{'guests': '2', 'bedroom': '1', 'bed': '1', 'shared': '1'}\n",
      "{'guests': '2', 'bedroom': '1', 'bed': '1', 'bath': '1'}\n",
      "{'guests': '6', 'bedrooms': '3', 'beds': '4', 'bath': '1'}\n",
      "{'guests': '4', 'bedroom': '1', 'beds': '2', 'bath': '1'}\n",
      "{'guests': '2', 'bedroom': '1', 'bed': '1', 'bath': '1'}\n"
     ]
    },
    {
     "ename": "IndexError",
     "evalue": "list index out of range",
     "output_type": "error",
     "traceback": [
      "\u001b[1;31m---------------------------------------------------------------------------\u001b[0m",
      "\u001b[1;31mIndexError\u001b[0m                                Traceback (most recent call last)",
      "\u001b[1;32m<ipython-input-69-d0f226b519e8>\u001b[0m in \u001b[0;36m<module>\u001b[1;34m\u001b[0m\n\u001b[0;32m      2\u001b[0m     \u001b[0msplit_info\u001b[0m \u001b[1;33m=\u001b[0m \u001b[1;33m[\u001b[0m\u001b[0mi\u001b[0m\u001b[1;33m.\u001b[0m\u001b[0msplit\u001b[0m\u001b[1;33m(\u001b[0m\u001b[1;33m)\u001b[0m \u001b[1;32mfor\u001b[0m \u001b[0mi\u001b[0m \u001b[1;32min\u001b[0m \u001b[0mroom\u001b[0m\u001b[1;33m.\u001b[0m\u001b[0msplit\u001b[0m\u001b[1;33m(\u001b[0m\u001b[1;34m\"'\"\u001b[0m\u001b[1;33m)\u001b[0m \u001b[1;32mif\u001b[0m \u001b[0mi\u001b[0m \u001b[1;32mnot\u001b[0m \u001b[1;32min\u001b[0m \u001b[1;34m'[], '\u001b[0m\u001b[1;33m]\u001b[0m\u001b[1;33m\u001b[0m\u001b[1;33m\u001b[0m\u001b[0m\n\u001b[0;32m      3\u001b[0m     \u001b[1;31m# add check for 'Studio' (0 rooms)\u001b[0m\u001b[1;33m\u001b[0m\u001b[1;33m\u001b[0m\u001b[1;33m\u001b[0m\u001b[0m\n\u001b[1;32m----> 4\u001b[1;33m     \u001b[0msplit_info\u001b[0m \u001b[1;33m=\u001b[0m \u001b[1;33m{\u001b[0m\u001b[0mi\u001b[0m\u001b[1;33m[\u001b[0m\u001b[1;36m1\u001b[0m\u001b[1;33m]\u001b[0m\u001b[1;33m:\u001b[0m\u001b[0mi\u001b[0m\u001b[1;33m[\u001b[0m\u001b[1;36m0\u001b[0m\u001b[1;33m]\u001b[0m \u001b[1;32mif\u001b[0m \u001b[0mi\u001b[0m \u001b[1;32mnot\u001b[0m \u001b[1;32min\u001b[0m \u001b[1;33m[\u001b[0m\u001b[1;33m[\u001b[0m\u001b[1;34m'Studio'\u001b[0m\u001b[1;33m]\u001b[0m\u001b[1;33m,\u001b[0m \u001b[1;33m[\u001b[0m\u001b[1;34m'Half-bath'\u001b[0m\u001b[1;33m]\u001b[0m\u001b[1;33m]\u001b[0m \u001b[1;32melse\u001b[0m \u001b[0mi\u001b[0m \u001b[1;32mfor\u001b[0m \u001b[0mi\u001b[0m \u001b[1;32min\u001b[0m \u001b[0msplit_info\u001b[0m\u001b[1;33m}\u001b[0m\u001b[1;33m\u001b[0m\u001b[1;33m\u001b[0m\u001b[0m\n\u001b[0m\u001b[0;32m      5\u001b[0m     \u001b[0mprint\u001b[0m\u001b[1;33m(\u001b[0m\u001b[0msplit_info\u001b[0m\u001b[1;33m)\u001b[0m\u001b[1;33m\u001b[0m\u001b[1;33m\u001b[0m\u001b[0m\n",
      "\u001b[1;32m<ipython-input-69-d0f226b519e8>\u001b[0m in \u001b[0;36m<dictcomp>\u001b[1;34m(.0)\u001b[0m\n\u001b[0;32m      2\u001b[0m     \u001b[0msplit_info\u001b[0m \u001b[1;33m=\u001b[0m \u001b[1;33m[\u001b[0m\u001b[0mi\u001b[0m\u001b[1;33m.\u001b[0m\u001b[0msplit\u001b[0m\u001b[1;33m(\u001b[0m\u001b[1;33m)\u001b[0m \u001b[1;32mfor\u001b[0m \u001b[0mi\u001b[0m \u001b[1;32min\u001b[0m \u001b[0mroom\u001b[0m\u001b[1;33m.\u001b[0m\u001b[0msplit\u001b[0m\u001b[1;33m(\u001b[0m\u001b[1;34m\"'\"\u001b[0m\u001b[1;33m)\u001b[0m \u001b[1;32mif\u001b[0m \u001b[0mi\u001b[0m \u001b[1;32mnot\u001b[0m \u001b[1;32min\u001b[0m \u001b[1;34m'[], '\u001b[0m\u001b[1;33m]\u001b[0m\u001b[1;33m\u001b[0m\u001b[1;33m\u001b[0m\u001b[0m\n\u001b[0;32m      3\u001b[0m     \u001b[1;31m# add check for 'Studio' (0 rooms)\u001b[0m\u001b[1;33m\u001b[0m\u001b[1;33m\u001b[0m\u001b[1;33m\u001b[0m\u001b[0m\n\u001b[1;32m----> 4\u001b[1;33m     \u001b[0msplit_info\u001b[0m \u001b[1;33m=\u001b[0m \u001b[1;33m{\u001b[0m\u001b[0mi\u001b[0m\u001b[1;33m[\u001b[0m\u001b[1;36m1\u001b[0m\u001b[1;33m]\u001b[0m\u001b[1;33m:\u001b[0m\u001b[0mi\u001b[0m\u001b[1;33m[\u001b[0m\u001b[1;36m0\u001b[0m\u001b[1;33m]\u001b[0m \u001b[1;32mif\u001b[0m \u001b[0mi\u001b[0m \u001b[1;32mnot\u001b[0m \u001b[1;32min\u001b[0m \u001b[1;33m[\u001b[0m\u001b[1;33m[\u001b[0m\u001b[1;34m'Studio'\u001b[0m\u001b[1;33m]\u001b[0m\u001b[1;33m,\u001b[0m \u001b[1;33m[\u001b[0m\u001b[1;34m'Half-bath'\u001b[0m\u001b[1;33m]\u001b[0m\u001b[1;33m]\u001b[0m \u001b[1;32melse\u001b[0m \u001b[0mi\u001b[0m \u001b[1;32mfor\u001b[0m \u001b[0mi\u001b[0m \u001b[1;32min\u001b[0m \u001b[0msplit_info\u001b[0m\u001b[1;33m}\u001b[0m\u001b[1;33m\u001b[0m\u001b[1;33m\u001b[0m\u001b[0m\n\u001b[0m\u001b[0;32m      5\u001b[0m     \u001b[0mprint\u001b[0m\u001b[1;33m(\u001b[0m\u001b[0msplit_info\u001b[0m\u001b[1;33m)\u001b[0m\u001b[1;33m\u001b[0m\u001b[1;33m\u001b[0m\u001b[0m\n",
      "\u001b[1;31mIndexError\u001b[0m: list index out of range"
     ]
    }
   ],
   "source": [
    "for room in df.room_info.sample(15): \n",
    "    split_info = [i.split() for i in room.split(\"'\") if i not in '[], ']\n",
    "    # add check for 'Studio' (0 rooms)\n",
    "    split_info = {i[1]:i[0] if i not in [['Studio'], ['Half-bath']] else i for i in split_info}\n",
    "    print(split_info)"
   ]
  },
  {
   "cell_type": "code",
   "execution_count": 77,
   "metadata": {},
   "outputs": [
    {
     "data": {
      "text/plain": [
       "[['4', 'guests'],\n",
       " ['1', 'bedroom'],\n",
       " ['1', 'bed'],\n",
       " ['1', 'bath'],\n",
       " ['2', 'guests'],\n",
       " ['1', 'bedroom'],\n",
       " ['2', 'beds'],\n",
       " ['1', 'shared', 'bath'],\n",
       " ['6', 'guests'],\n",
       " ['1', 'bedroom'],\n",
       " ['2', 'beds'],\n",
       " ['1', 'bath'],\n",
       " ['4', 'guests'],\n",
       " ['2', 'bedrooms'],\n",
       " ['3', 'beds'],\n",
       " ['1', 'bath'],\n",
       " ['5', 'guests'],\n",
       " ['2', 'bedrooms'],\n",
       " ['3', 'beds'],\n",
       " ['6', 'guests'],\n",
       " ['2', 'bedrooms'],\n",
       " ['3', 'beds'],\n",
       " ['1', 'bath'],\n",
       " ['4', 'guests'],\n",
       " ['1', 'bedroom'],\n",
       " ['1', 'bed'],\n",
       " ['1', 'bath'],\n",
       " ['5', 'guests'],\n",
       " ['3', 'beds'],\n",
       " ['4', 'guests'],\n",
       " ['1', 'bedroom'],\n",
       " ['3', 'beds'],\n",
       " ['1', 'bath'],\n",
       " ['3', 'guests'],\n",
       " ['3', 'beds'],\n",
       " ['1', 'bath'],\n",
       " ['2', 'guests'],\n",
       " ['1', 'bed'],\n",
       " ['1', 'bath'],\n",
       " ['4', 'guests'],\n",
       " ['1', 'bedroom'],\n",
       " ['1', 'bed'],\n",
       " ['1', 'private', 'bath'],\n",
       " ['7', 'guests'],\n",
       " ['4', 'bedrooms'],\n",
       " ['5', 'beds'],\n",
       " ['3', 'baths'],\n",
       " ['2', 'guests'],\n",
       " ['1', 'bedroom'],\n",
       " ['2', 'beds'],\n",
       " ['0', 'baths'],\n",
       " ['2', 'guests'],\n",
       " ['2', 'bedrooms'],\n",
       " ['2', 'beds'],\n",
       " ['2.5', 'shared', 'baths'],\n",
       " ['4', 'guests'],\n",
       " ['1', 'bedroom'],\n",
       " ['2', 'beds'],\n",
       " ['1', 'bath'],\n",
       " ['6', 'guests'],\n",
       " ['2', 'bedrooms'],\n",
       " ['3', 'beds'],\n",
       " ['1', 'bath'],\n",
       " ['2', 'guests'],\n",
       " ['1', 'bedroom'],\n",
       " ['1', 'bed'],\n",
       " ['1', 'bath'],\n",
       " ['4', 'guests'],\n",
       " ['1', 'bedroom'],\n",
       " ['1', 'bed'],\n",
       " ['1', 'bath'],\n",
       " ['4', 'guests'],\n",
       " ['1', 'bedroom'],\n",
       " ['2', 'beds'],\n",
       " ['1', 'bath'],\n",
       " ['2', 'guests'],\n",
       " ['1', 'bedroom'],\n",
       " ['1', 'bed'],\n",
       " ['1', 'bath'],\n",
       " ['6', 'guests'],\n",
       " ['3', 'bedrooms'],\n",
       " ['3', 'beds'],\n",
       " ['2', 'baths'],\n",
       " ['12', 'guests'],\n",
       " ['4', 'bedrooms'],\n",
       " ['5', 'beds'],\n",
       " ['2', 'baths'],\n",
       " ['4', 'guests'],\n",
       " ['2', 'bedrooms'],\n",
       " ['2', 'beds'],\n",
       " ['1', 'bath'],\n",
       " ['6', 'guests'],\n",
       " ['2', 'bedrooms'],\n",
       " ['2', 'beds'],\n",
       " ['2', 'baths'],\n",
       " ['4', 'guests'],\n",
       " ['2', 'bedrooms'],\n",
       " ['3', 'beds'],\n",
       " ['1', 'bath'],\n",
       " ['10', 'guests'],\n",
       " ['3', 'bedrooms'],\n",
       " ['6', 'beds'],\n",
       " ['2', 'baths'],\n",
       " ['3', 'guests'],\n",
       " ['1', 'bedroom'],\n",
       " ['1', 'bed'],\n",
       " ['1', 'bath'],\n",
       " ['2', 'guests'],\n",
       " ['1', 'bedroom'],\n",
       " ['1', 'bed'],\n",
       " ['1', 'shared', 'bath'],\n",
       " ['4', 'guests'],\n",
       " ['2', 'beds'],\n",
       " ['6', 'guests'],\n",
       " ['2', 'bedrooms'],\n",
       " ['1', 'bed'],\n",
       " ['2', 'baths'],\n",
       " ['2', 'guests'],\n",
       " ['1', 'bedroom'],\n",
       " ['1', 'bed'],\n",
       " ['1', 'bath'],\n",
       " ['6', 'guests'],\n",
       " ['2', 'bedrooms'],\n",
       " ['4', 'beds'],\n",
       " ['1', 'bath'],\n",
       " ['2', 'guests'],\n",
       " ['2', 'beds'],\n",
       " ['0', 'baths'],\n",
       " ['4', 'guests'],\n",
       " ['4', 'beds'],\n",
       " ['0', 'baths'],\n",
       " ['5', 'guests'],\n",
       " ['2', 'bedrooms'],\n",
       " ['2', 'beds'],\n",
       " ['1', 'bath'],\n",
       " ['2', 'guests'],\n",
       " ['1', 'bedroom'],\n",
       " ['1', 'bed'],\n",
       " ['1', 'bath'],\n",
       " ['5', 'guests'],\n",
       " ['3', 'beds'],\n",
       " ['4', 'guests'],\n",
       " ['1', 'bed'],\n",
       " ['1.5', 'baths'],\n",
       " ['4', 'guests'],\n",
       " ['4', 'beds'],\n",
       " ['1', 'bath'],\n",
       " ['10', 'guests'],\n",
       " ['3', 'bedrooms'],\n",
       " ['3', 'beds'],\n",
       " ['2', 'baths'],\n",
       " ['6', 'guests'],\n",
       " ['2', 'bedrooms'],\n",
       " ['2', 'beds'],\n",
       " ['1.5', 'baths'],\n",
       " ['4', 'guests'],\n",
       " ['1', 'bedroom'],\n",
       " ['2', 'beds'],\n",
       " ['1', 'bath'],\n",
       " ['1', 'guest'],\n",
       " ['1', 'bedroom'],\n",
       " ['1', 'bed'],\n",
       " ['0', 'baths'],\n",
       " ['6', 'guests'],\n",
       " ['3', 'bedrooms'],\n",
       " ['5', 'beds'],\n",
       " ['2', 'baths'],\n",
       " ['4', 'guests'],\n",
       " ['2', 'bedrooms'],\n",
       " ['4', 'beds'],\n",
       " ['1', 'bath'],\n",
       " ['6', 'guests'],\n",
       " ['2', 'bedrooms'],\n",
       " ['2', 'beds'],\n",
       " ['1', 'bath'],\n",
       " ['2', 'guests'],\n",
       " ['1', 'bedroom'],\n",
       " ['1', 'bed'],\n",
       " ['1', 'private', 'bath'],\n",
       " ['4', 'guests'],\n",
       " ['1', 'bedroom'],\n",
       " ['1', 'bed'],\n",
       " ['5', 'guests'],\n",
       " ['1', 'bedroom'],\n",
       " ['2', 'beds'],\n",
       " ['1', 'bath'],\n",
       " ['4', 'guests'],\n",
       " ['1', 'bedroom'],\n",
       " ['1', 'bed'],\n",
       " ['1', 'bath'],\n",
       " ['6', 'guests'],\n",
       " ['2', 'bedrooms'],\n",
       " ['4', 'beds'],\n",
       " ['1', 'bath'],\n",
       " ['4', 'guests'],\n",
       " ['1', 'bedroom'],\n",
       " ['1', 'bed'],\n",
       " ['1', 'bath'],\n",
       " ['4', 'guests'],\n",
       " ['1', 'bedroom'],\n",
       " ['1', 'bed'],\n",
       " ['1', 'bath'],\n",
       " ['4', 'guests'],\n",
       " ['1', 'bedroom'],\n",
       " ['1', 'bed'],\n",
       " ['1', 'bath'],\n",
       " ['6', 'guests'],\n",
       " ['2', 'bedrooms'],\n",
       " ['3', 'beds'],\n",
       " ['2.5', 'baths'],\n",
       " ['2', 'guests'],\n",
       " ['1', 'bedroom'],\n",
       " ['1', 'bed'],\n",
       " ['1', 'bath'],\n",
       " ['2', 'guests'],\n",
       " ['1', 'bedroom'],\n",
       " ['1', 'bed'],\n",
       " ['0', 'baths'],\n",
       " ['6', 'guests'],\n",
       " ['2', 'bedrooms'],\n",
       " ['4', 'beds'],\n",
       " ['1', 'bath'],\n",
       " ['5', 'guests'],\n",
       " ['4', 'beds'],\n",
       " ['1', 'bath'],\n",
       " ['2', 'guests'],\n",
       " ['1', 'bedroom'],\n",
       " ['1', 'bed'],\n",
       " ['1', 'bath'],\n",
       " ['3', 'guests'],\n",
       " ['1', 'bedroom'],\n",
       " ['1', 'bed'],\n",
       " ['1', 'bath'],\n",
       " ['2', 'guests'],\n",
       " ['1', 'bed'],\n",
       " ['16', 'guests'],\n",
       " ['5', 'bedrooms'],\n",
       " ['9', 'beds'],\n",
       " ['3.5', 'baths'],\n",
       " ['3', 'guests'],\n",
       " ['2', 'beds'],\n",
       " ['1', 'bath'],\n",
       " ['5', 'guests'],\n",
       " ['4', 'beds'],\n",
       " ['1', 'bath'],\n",
       " ['2', 'guests'],\n",
       " ['1', 'bed'],\n",
       " ['6', 'guests'],\n",
       " ['2', 'bedrooms'],\n",
       " ['4', 'beds'],\n",
       " ['1', 'bath'],\n",
       " ['3', 'guests'],\n",
       " ['1', 'bedroom'],\n",
       " ['2', 'beds'],\n",
       " ['1', 'bath'],\n",
       " ['2', 'guests'],\n",
       " ['1', 'bedroom'],\n",
       " ['1', 'bed'],\n",
       " ['1', 'bath'],\n",
       " ['3', 'guests'],\n",
       " ['1', 'bedroom'],\n",
       " ['2', 'beds'],\n",
       " ['0', 'baths'],\n",
       " ['1', 'guest'],\n",
       " ['1', 'bedroom'],\n",
       " ['6', 'beds'],\n",
       " ['2', 'shared', 'baths'],\n",
       " ['2', 'guests'],\n",
       " ['1', 'bed'],\n",
       " ['1', 'bath'],\n",
       " ['4', 'guests'],\n",
       " ['1', 'bedroom'],\n",
       " ['3', 'beds'],\n",
       " ['1', 'bath'],\n",
       " ['2', 'guests'],\n",
       " ['1', 'bed'],\n",
       " ['4', 'guests'],\n",
       " ['1', 'bedroom'],\n",
       " ['2', 'beds'],\n",
       " ['2', 'baths'],\n",
       " ['4', 'guests'],\n",
       " ['2', 'bedrooms'],\n",
       " ['2', 'beds'],\n",
       " ['1', 'bath'],\n",
       " ['4', 'guests'],\n",
       " ['1', 'bedroom'],\n",
       " ['2', 'beds'],\n",
       " ['1', 'bath'],\n",
       " ['2', 'guests'],\n",
       " ['1', 'bed'],\n",
       " ['0', 'baths'],\n",
       " ['4', 'guests'],\n",
       " ['2', 'beds'],\n",
       " ['1', 'bath'],\n",
       " ['3', 'guests'],\n",
       " ['1', 'bedroom'],\n",
       " ['2', 'beds'],\n",
       " ['2', 'baths'],\n",
       " ['2', 'guests'],\n",
       " ['1', 'bedroom'],\n",
       " ['1', 'bed'],\n",
       " ['1', 'bath'],\n",
       " ['6', 'guests'],\n",
       " ['2', 'bedrooms'],\n",
       " ['5', 'beds'],\n",
       " ['1', 'bath'],\n",
       " ['2', 'guests'],\n",
       " ['1', 'bed'],\n",
       " ['2', 'guests'],\n",
       " ['1', 'bedroom'],\n",
       " ['1', 'bed'],\n",
       " ['1', 'bath'],\n",
       " ['2', 'guests'],\n",
       " ['1', 'bedroom'],\n",
       " ['1', 'bed'],\n",
       " ['1', 'bath'],\n",
       " ['4', 'guests'],\n",
       " ['1', 'bedroom'],\n",
       " ['2', 'beds'],\n",
       " ['1', 'bath'],\n",
       " ['2', 'guests'],\n",
       " ['1', 'bedroom'],\n",
       " ['1', 'bed'],\n",
       " ['1', 'shared', 'bath'],\n",
       " ['2', 'guests'],\n",
       " ['1', 'bedroom'],\n",
       " ['1', 'bed'],\n",
       " ['1', 'bath'],\n",
       " ['6', 'guests'],\n",
       " ['2', 'bedrooms'],\n",
       " ['5', 'beds'],\n",
       " ['1', 'bath'],\n",
       " ['1', 'guest'],\n",
       " ['1', 'bedroom'],\n",
       " ['1', 'bed'],\n",
       " ['1', 'shared', 'bath'],\n",
       " ['4', 'guests'],\n",
       " ['3', 'beds'],\n",
       " ['1', 'bath'],\n",
       " ['4', 'guests'],\n",
       " ['2', 'bedrooms'],\n",
       " ['3', 'beds'],\n",
       " ['1', 'bath'],\n",
       " ['2', 'guests'],\n",
       " ['1', 'bedroom'],\n",
       " ['0', 'beds'],\n",
       " ['0', 'baths'],\n",
       " ['8', 'guests'],\n",
       " ['3', 'bedrooms'],\n",
       " ['4', 'beds'],\n",
       " ['1', 'bath'],\n",
       " ['8', 'guests'],\n",
       " ['2', 'bedrooms'],\n",
       " ['4', 'beds'],\n",
       " ['1', 'bath'],\n",
       " ['4', 'guests'],\n",
       " ['1', 'bedroom'],\n",
       " ['1', 'bed'],\n",
       " ['1', 'bath'],\n",
       " ['4', 'guests'],\n",
       " ['1', 'bed'],\n",
       " ['2', 'guests'],\n",
       " ['1', 'bedroom'],\n",
       " ['1', 'bed'],\n",
       " ['1', 'bath'],\n",
       " ['4', 'guests'],\n",
       " ['2', 'beds']]"
      ]
     },
     "execution_count": 77,
     "metadata": {},
     "output_type": "execute_result"
    }
   ],
   "source": [
    "new_list = []\n",
    "for room in df.room_info.sample(100): \n",
    "    split_info = [i.split() for i in room.split(\"'\") if i not in '[], ']\n",
    "    for i in split_info:\n",
    "        if i not in [['Studio'], ['Half-bath']]:\n",
    "            try:\n",
    "                new_list.append(i)\n",
    "            except:\n",
    "                if len(i)==1:\n",
    "                    print(i)\n",
    "                else:\n",
    "                    raise Exception('idk')\n",
    "                \n",
    "                \n",
    "new_list"
   ]
  },
  {
   "cell_type": "markdown",
   "metadata": {},
   "source": [
    "Add check for `['x', 'shared', 'bath']`..."
   ]
  },
  {
   "cell_type": "code",
   "execution_count": 114,
   "metadata": {},
   "outputs": [
    {
     "name": "stdout",
     "output_type": "stream",
     "text": [
      "{'guests': '2', 'is_studio': True, 'bedrooms': 0, 'baths': '1', 'half_baths': None, 'shared_baths': None}\n",
      "{'guests': '5', 'is_studio': True, 'beds': '3', 'bedrooms': 0, 'baths': None, 'half_baths': 0, 'shared_baths': None}\n",
      "{'guests': '2', 'is_studio': True, 'bedrooms': 0, 'baths': None, 'half_baths': 0, 'shared_baths': None}\n",
      "{'guests': '5', 'is_studio': True, 'beds': '4', 'bedrooms': 0, 'baths': '1', 'half_baths': None, 'shared_baths': None}\n",
      "{'guests': '2', 'is_studio': True, 'baths': '0', 'bedrooms': 0, 'half_baths': None, 'shared_baths': None}\n",
      "{'guests': '2', 'is_studio': True, 'baths': '0', 'bedrooms': 0, 'half_baths': None, 'shared_baths': None}\n",
      "{'guests': '3', 'is_studio': True, 'baths': '0', 'bedrooms': 0, 'half_baths': None, 'shared_baths': None}\n",
      "{'guests': '2', 'is_studio': True, 'bedrooms': 0, 'baths': None, 'half_baths': 0, 'shared_baths': None}\n",
      "{'guests': '5', 'is_studio': True, 'beds': '3', 'bedrooms': 0, 'baths': None, 'half_baths': 0, 'shared_baths': None}\n",
      "{'guests': '4', 'is_studio': True, 'beds': '2', 'bedrooms': 0, 'baths': '1', 'half_baths': None, 'shared_baths': None}\n",
      "{'guests': '4', 'is_studio': True, 'beds': '4', 'bedrooms': 0, 'baths': '1', 'half_baths': None, 'shared_baths': None}\n",
      "{'guests': '2', 'is_studio': True, 'bedrooms': 0, 'baths': '1', 'half_baths': None, 'shared_baths': None}\n",
      "{'guests': '4', 'is_studio': True, 'baths': '1.5', 'bedrooms': 0, 'half_baths': None, 'shared_baths': None}\n",
      "{'guests': '3', 'is_studio': True, 'beds': '2', 'baths': '0', 'bedrooms': 0, 'half_baths': None, 'shared_baths': None}\n",
      "{'guests': '4', 'is_studio': True, 'beds': '4', 'baths': '0', 'bedrooms': 0, 'half_baths': None, 'shared_baths': None}\n",
      "{'guests': '2', 'is_studio': True, 'beds': '2', 'baths': '0', 'bedrooms': 0, 'half_baths': None, 'shared_baths': None}\n",
      "{'guests': '3', 'is_studio': True, 'beds': '2', 'baths': '0', 'bedrooms': 0, 'half_baths': None, 'shared_baths': None}\n",
      "{'guests': '2', 'is_studio': True, 'baths': '0', 'bedrooms': 0, 'half_baths': None, 'shared_baths': None}\n",
      "{'guests': '2', 'is_studio': True, 'bedrooms': 0, 'baths': '1', 'half_baths': None, 'shared_baths': None}\n",
      "{'guests': '2', 'is_studio': True, 'bedrooms': 0, 'baths': '1', 'half_baths': None, 'shared_baths': None}\n",
      "{'guests': '3', 'is_studio': True, 'beds': '3', 'bedrooms': 0, 'baths': '1', 'half_baths': None, 'shared_baths': None}\n",
      "{'guests': '2', 'is_studio': True, 'bedrooms': 0, 'baths': '1', 'half_baths': None, 'shared_baths': None}\n",
      "{'guests': '4', 'is_studio': True, 'beds': '3', 'bedrooms': 0, 'baths': '1', 'half_baths': None, 'shared_baths': None}\n",
      "{'guests': '5', 'is_studio': True, 'beds': '3', 'bedrooms': 0, 'baths': None, 'half_baths': 0, 'shared_baths': None}\n",
      "{'guests': '4', 'is_studio': True, 'beds': '4', 'bedrooms': 0, 'baths': '1', 'half_baths': None, 'shared_baths': None}\n",
      "{'guests': '4', 'is_studio': True, 'beds': '2', 'bedrooms': 0, 'baths': '1', 'half_baths': None, 'shared_baths': None}\n",
      "{'guests': '2', 'is_studio': True, 'baths': '0', 'bedrooms': 0, 'half_baths': None, 'shared_baths': None}\n",
      "{'guests': '3', 'is_studio': True, 'beds': '2', 'bedrooms': 0, 'baths': '1', 'half_baths': None, 'shared_baths': None}\n",
      "{'guests': '2', 'is_studio': True, 'bedrooms': 0, 'baths': '1', 'half_baths': None, 'shared_baths': None}\n",
      "{'guests': '2', 'is_studio': True, 'bedrooms': 0, 'baths': '1', 'half_baths': None, 'shared_baths': None}\n",
      "{'guests': '2', 'is_studio': True, 'bedrooms': 0, 'baths': '1', 'half_baths': None, 'shared_baths': None}\n"
     ]
    }
   ],
   "source": [
    "c = []\n",
    "\n",
    "for room in df.room_info.sample(150):\n",
    "    room_dict = {}\n",
    "    split_info = [i.split() for i in room.split(\"'\") if i not in '[], ']\n",
    "    # add check for 'Studio' (0 rooms)\n",
    "#     split_info = {i[1]:i[0] if i not in [['Studio'], ['Half-bath']] else i for i in split_info}\n",
    "    for i in split_info:\n",
    "        if i not in [['Studio'], ['Half-bath']]:\n",
    "            if len(i) == 2:\n",
    "                room_dict[i[1]] = i[0]\n",
    "            # shared-baths\n",
    "            elif len(i) == 3:\n",
    "                i = [i[0], '-'.join([i[1], i[2]])]\n",
    "                room_dict[i[1]] = i[0]\n",
    "            else:\n",
    "                raise Exception(f'unexpected room_info | unexpected split_info len(i)=={len(i)}!=2!=3')\n",
    "        else:\n",
    "            # Half-baths and Studios\n",
    "            if i[0] == 'Studio':\n",
    "                room_dict['is_studio'] = True\n",
    "            room_dict[i[0]] = 0\n",
    "    \n",
    "    try:\n",
    "        room_dict['bedrooms']\n",
    "    except:\n",
    "        try:\n",
    "            room_dict['bedrooms'] = room_dict['bedroom']\n",
    "        except:\n",
    "            room_dict['bedrooms'] = room_dict['Studio']\n",
    "         \n",
    "    try:\n",
    "        room_dict['baths']\n",
    "    except:\n",
    "        try:\n",
    "            room_dict['baths'] = room_dict['bath']\n",
    "        except:\n",
    "            room_dict['baths'] = None\n",
    "            \n",
    "    room_dict['half_baths'] = room_dict.get('Half-bath')\n",
    "    room_dict['shared_baths'] = room_dict.get('shared-baths')\n",
    "    room_dict['is_studio'] = room_dict.get('is_studio', False)\n",
    "            \n",
    "    room_dict = {key:value for key,value in room_dict.items() if key in ['guests', 'bedrooms', 'beds', 'is_studio', 'baths', 'half_baths', 'shared_baths']}\n",
    "            \n",
    "    c.append(room_dict)\n",
    "       \n",
    "for d in c:\n",
    "# #     if d['shared_baths'] != None:\n",
    "# #         print(d)\n",
    "#     if (d['half_baths'] != None) and (d['half_baths'] != 0):\n",
    "#         print(d)\n",
    "    if d['is_studio'] == True:\n",
    "        print(d)\n",
    "# c"
   ]
  },
  {
   "cell_type": "markdown",
   "metadata": {},
   "source": [
    "## Before"
   ]
  },
  {
   "cell_type": "code",
   "execution_count": null,
   "metadata": {},
   "outputs": [],
   "source": [
    "def get_room_info(listing):\n",
    "    \"\"\"\n",
    "    returns room info of listing \n",
    "    \"\"\"\n",
    "    room_info = listing.find('div', {'class', '_kqh46o'}).text\n",
    "    room_info = room_info.split(' · ')\n",
    "    return room_info"
   ]
  },
  {
   "cell_type": "markdown",
   "metadata": {},
   "source": [
    "## After"
   ]
  },
  {
   "cell_type": "code",
   "execution_count": null,
   "metadata": {},
   "outputs": [],
   "source": [
    "def get_room_info(listing):\n",
    "    \"\"\"\n",
    "    returns room info of listing \n",
    "    \"\"\"\n",
    "    room_info = listing.find('div', {'class', '_kqh46o'}).text\n",
    "    split_info = room_info.split(' · ')\n",
    "    room_dict = {}\n",
    "    for i in split_info:\n",
    "        if i not in [['Studio'], ['Half-bath']]:\n",
    "            if len(i) == 2:\n",
    "                room_dict[i[1]] = i[0]\n",
    "            # shared-baths\n",
    "            elif len(i) == 3:\n",
    "                i = [i[0], '-'.join([i[1], i[2]])]\n",
    "                room_dict[i[1]] = i[0]\n",
    "            else:\n",
    "                raise Exception(f'unexpected room_info | unexpected split_info len(i)=={len(i)}!=2!=3')\n",
    "        else:\n",
    "            # Half-baths and Studios\n",
    "            if i[0] == 'Studio':\n",
    "                room_dict['is_studio'] = True\n",
    "            room_dict[i[0]] = 0\n",
    "    \n",
    "    try:\n",
    "        room_dict['bedrooms']\n",
    "    except:\n",
    "        try:\n",
    "            room_dict['bedrooms'] = room_dict['bedroom']\n",
    "        except:\n",
    "            room_dict['bedrooms'] = room_dict['Studio']\n",
    "         \n",
    "    try:\n",
    "        room_dict['baths']\n",
    "    except:\n",
    "        try:\n",
    "            room_dict['baths'] = room_dict['bath']\n",
    "        except:\n",
    "            room_dict['baths'] = None\n",
    "            \n",
    "    room_dict['half_baths'] = room_dict.get('Half-bath')\n",
    "    room_dict['shared_baths'] = room_dict.get('shared-baths')\n",
    "    room_dict['is_studio'] = room_dict.get('is_studio', False)\n",
    "            \n",
    "    room_dict = {key:value for key,value in room_dict.items() if key in ['guests', 'bedrooms', 'beds', 'is_studio', 'baths', 'half_baths', 'shared_baths']}\n",
    "            \n",
    "    return room_dict"
   ]
  }
 ],
 "metadata": {
  "kernelspec": {
   "display_name": "Python 3",
   "language": "python",
   "name": "python3"
  },
  "language_info": {
   "codemirror_mode": {
    "name": "ipython",
    "version": 3
   },
   "file_extension": ".py",
   "mimetype": "text/x-python",
   "name": "python",
   "nbconvert_exporter": "python",
   "pygments_lexer": "ipython3",
   "version": "3.7.9"
  }
 },
 "nbformat": 4,
 "nbformat_minor": 4
}
