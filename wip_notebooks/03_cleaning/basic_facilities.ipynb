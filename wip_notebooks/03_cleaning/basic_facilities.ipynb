{
 "cells": [
  {
   "cell_type": "markdown",
   "metadata": {},
   "source": [
    "# Extracting Basic Facilities\n",
    "Already added `output.split(' · ')`."
   ]
  },
  {
   "cell_type": "code",
   "execution_count": 4,
   "metadata": {},
   "outputs": [
    {
     "data": {
      "text/html": [
       "<div>\n",
       "<style scoped>\n",
       "    .dataframe tbody tr th:only-of-type {\n",
       "        vertical-align: middle;\n",
       "    }\n",
       "\n",
       "    .dataframe tbody tr th {\n",
       "        vertical-align: top;\n",
       "    }\n",
       "\n",
       "    .dataframe thead th {\n",
       "        text-align: right;\n",
       "    }\n",
       "</style>\n",
       "<table border=\"1\" class=\"dataframe\">\n",
       "  <thead>\n",
       "    <tr style=\"text-align: right;\">\n",
       "      <th></th>\n",
       "      <th>url</th>\n",
       "      <th>title</th>\n",
       "      <th>type</th>\n",
       "      <th>location</th>\n",
       "      <th>guests</th>\n",
       "      <th>bedrooms</th>\n",
       "      <th>beds</th>\n",
       "      <th>is_studio</th>\n",
       "      <th>baths</th>\n",
       "      <th>half_baths</th>\n",
       "      <th>shared_baths</th>\n",
       "      <th>price</th>\n",
       "      <th>basic_facilities</th>\n",
       "      <th>avg_rating</th>\n",
       "      <th>n_reviews</th>\n",
       "    </tr>\n",
       "  </thead>\n",
       "  <tbody>\n",
       "    <tr>\n",
       "      <th>295</th>\n",
       "      <td>https://airbnb.com/rooms/40659440</td>\n",
       "      <td>Cozy Bedroom near center of Las Vegas - null -...</td>\n",
       "      <td>Private room</td>\n",
       "      <td>Las Vegas</td>\n",
       "      <td>NaN</td>\n",
       "      <td>1</td>\n",
       "      <td>NaN</td>\n",
       "      <td>False</td>\n",
       "      <td>2.5</td>\n",
       "      <td>NaN</td>\n",
       "      <td>NaN</td>\n",
       "      <td>18.0</td>\n",
       "      <td>['Wifi', 'Self check-in', 'Air conditioning', ...</td>\n",
       "      <td>NaN</td>\n",
       "      <td>NaN</td>\n",
       "    </tr>\n",
       "    <tr>\n",
       "      <th>296</th>\n",
       "      <td>https://airbnb.com/rooms/45800488</td>\n",
       "      <td>Live + Work + Stay + Easy | 2BR in Las Vegas -...</td>\n",
       "      <td>Entire serviced apartment</td>\n",
       "      <td>Las Vegas</td>\n",
       "      <td>2.0</td>\n",
       "      <td>2</td>\n",
       "      <td>2.0</td>\n",
       "      <td>False</td>\n",
       "      <td>2.0</td>\n",
       "      <td>NaN</td>\n",
       "      <td>NaN</td>\n",
       "      <td>96.0</td>\n",
       "      <td>['Gym', 'Wifi', 'Pets allowed', 'Pool']</td>\n",
       "      <td>NaN</td>\n",
       "      <td>NaN</td>\n",
       "    </tr>\n",
       "    <tr>\n",
       "      <th>297</th>\n",
       "      <td>https://airbnb.com/rooms/46627023</td>\n",
       "      <td>Gated secure community 2 miles from strip/park...</td>\n",
       "      <td>Private room</td>\n",
       "      <td>Las Vegas</td>\n",
       "      <td>NaN</td>\n",
       "      <td>1</td>\n",
       "      <td>NaN</td>\n",
       "      <td>False</td>\n",
       "      <td>NaN</td>\n",
       "      <td>NaN</td>\n",
       "      <td>NaN</td>\n",
       "      <td>21.0</td>\n",
       "      <td>['Gym', 'Wifi', 'Air conditioning', 'Indoor fi...</td>\n",
       "      <td>5.00</td>\n",
       "      <td>5.0</td>\n",
       "    </tr>\n",
       "    <tr>\n",
       "      <th>298</th>\n",
       "      <td>https://airbnb.com/rooms/46771252</td>\n",
       "      <td>A29B1 MGM Signature Studio Suite - null - Las ...</td>\n",
       "      <td>Entire serviced apartment</td>\n",
       "      <td>Las Vegas</td>\n",
       "      <td>2.0</td>\n",
       "      <td>0</td>\n",
       "      <td>2.0</td>\n",
       "      <td>True</td>\n",
       "      <td>1.0</td>\n",
       "      <td>NaN</td>\n",
       "      <td>NaN</td>\n",
       "      <td>62.0</td>\n",
       "      <td>['Gym', 'Elevator', 'Wifi', 'Self check-in']</td>\n",
       "      <td>4.50</td>\n",
       "      <td>4.0</td>\n",
       "    </tr>\n",
       "    <tr>\n",
       "      <th>299</th>\n",
       "      <td>https://airbnb.com/rooms/20943365</td>\n",
       "      <td>(2) Tranquil Peaceful BedRoom Near Nature &amp; St...</td>\n",
       "      <td>Private room</td>\n",
       "      <td>Las Vegas</td>\n",
       "      <td>NaN</td>\n",
       "      <td>1</td>\n",
       "      <td>NaN</td>\n",
       "      <td>False</td>\n",
       "      <td>NaN</td>\n",
       "      <td>NaN</td>\n",
       "      <td>NaN</td>\n",
       "      <td>33.0</td>\n",
       "      <td>['Wifi', 'Self check-in', 'Air conditioning', ...</td>\n",
       "      <td>4.88</td>\n",
       "      <td>116.0</td>\n",
       "    </tr>\n",
       "  </tbody>\n",
       "</table>\n",
       "</div>"
      ],
      "text/plain": [
       "                                   url  \\\n",
       "295  https://airbnb.com/rooms/40659440   \n",
       "296  https://airbnb.com/rooms/45800488   \n",
       "297  https://airbnb.com/rooms/46627023   \n",
       "298  https://airbnb.com/rooms/46771252   \n",
       "299  https://airbnb.com/rooms/20943365   \n",
       "\n",
       "                                                 title  \\\n",
       "295  Cozy Bedroom near center of Las Vegas - null -...   \n",
       "296  Live + Work + Stay + Easy | 2BR in Las Vegas -...   \n",
       "297  Gated secure community 2 miles from strip/park...   \n",
       "298  A29B1 MGM Signature Studio Suite - null - Las ...   \n",
       "299  (2) Tranquil Peaceful BedRoom Near Nature & St...   \n",
       "\n",
       "                          type   location  guests  bedrooms  beds  is_studio  \\\n",
       "295               Private room  Las Vegas     NaN         1   NaN      False   \n",
       "296  Entire serviced apartment  Las Vegas     2.0         2   2.0      False   \n",
       "297               Private room  Las Vegas     NaN         1   NaN      False   \n",
       "298  Entire serviced apartment  Las Vegas     2.0         0   2.0       True   \n",
       "299               Private room  Las Vegas     NaN         1   NaN      False   \n",
       "\n",
       "     baths  half_baths  shared_baths  price  \\\n",
       "295    2.5         NaN           NaN   18.0   \n",
       "296    2.0         NaN           NaN   96.0   \n",
       "297    NaN         NaN           NaN   21.0   \n",
       "298    1.0         NaN           NaN   62.0   \n",
       "299    NaN         NaN           NaN   33.0   \n",
       "\n",
       "                                      basic_facilities  avg_rating  n_reviews  \n",
       "295  ['Wifi', 'Self check-in', 'Air conditioning', ...         NaN        NaN  \n",
       "296            ['Gym', 'Wifi', 'Pets allowed', 'Pool']         NaN        NaN  \n",
       "297  ['Gym', 'Wifi', 'Air conditioning', 'Indoor fi...        5.00        5.0  \n",
       "298       ['Gym', 'Elevator', 'Wifi', 'Self check-in']        4.50        4.0  \n",
       "299  ['Wifi', 'Self check-in', 'Air conditioning', ...        4.88      116.0  "
      ]
     },
     "execution_count": 4,
     "metadata": {},
     "output_type": "execute_result"
    }
   ],
   "source": [
    "import pandas as pd\n",
    "\n",
    "pd.read_csv('paradise_2021-01-09.csv').tail()"
   ]
  },
  {
   "cell_type": "code",
   "execution_count": 7,
   "metadata": {},
   "outputs": [
    {
     "data": {
      "text/plain": [
       "0            ['Gym', 'Wifi', 'Air conditioning', 'Pool']\n",
       "1      ['Gym', 'Wifi', 'Self check-in', 'Air conditio...\n",
       "2      ['Wifi', 'Self check-in', 'Air conditioning', ...\n",
       "3      ['Wifi', 'Air conditioning', 'Pets allowed', '...\n",
       "4      ['Gym', 'Wifi', 'Self check-in', 'Air conditio...\n",
       "                             ...                        \n",
       "295    ['Wifi', 'Self check-in', 'Air conditioning', ...\n",
       "296              ['Gym', 'Wifi', 'Pets allowed', 'Pool']\n",
       "297    ['Gym', 'Wifi', 'Air conditioning', 'Indoor fi...\n",
       "298         ['Gym', 'Elevator', 'Wifi', 'Self check-in']\n",
       "299    ['Wifi', 'Self check-in', 'Air conditioning', ...\n",
       "Name: basic_facilities, Length: 300, dtype: object"
      ]
     },
     "execution_count": 7,
     "metadata": {},
     "output_type": "execute_result"
    }
   ],
   "source": [
    "df = pd.read_csv('paradise_2021-01-09.csv')\n",
    "\n",
    "df.basic_facilities"
   ]
  },
  {
   "cell_type": "code",
   "execution_count": 9,
   "metadata": {},
   "outputs": [
    {
     "data": {
      "text/plain": [
       "\"['Gym', 'Wifi', 'Self check-in', 'Air conditioning']\""
      ]
     },
     "execution_count": 9,
     "metadata": {},
     "output_type": "execute_result"
    }
   ],
   "source": [
    "df.basic_facilities[1]"
   ]
  },
  {
   "cell_type": "code",
   "execution_count": 10,
   "metadata": {},
   "outputs": [
    {
     "data": {
      "text/plain": [
       "['[',\n",
       " 'Gym',\n",
       " ', ',\n",
       " 'Wifi',\n",
       " ', ',\n",
       " 'Self check-in',\n",
       " ', ',\n",
       " 'Air conditioning',\n",
       " ']']"
      ]
     },
     "execution_count": 10,
     "metadata": {},
     "output_type": "execute_result"
    }
   ],
   "source": [
    "df.basic_facilities[1].split(\"'\")"
   ]
  },
  {
   "cell_type": "code",
   "execution_count": 13,
   "metadata": {},
   "outputs": [
    {
     "data": {
      "text/plain": [
       "['Gym', 'Wifi', 'Self check-in', 'Air conditioning']"
      ]
     },
     "execution_count": 13,
     "metadata": {},
     "output_type": "execute_result"
    }
   ],
   "source": [
    "[i for i in df.basic_facilities[1].split(\"'\") if i not in '[], ']"
   ]
  },
  {
   "cell_type": "code",
   "execution_count": 14,
   "metadata": {},
   "outputs": [
    {
     "data": {
      "text/plain": [
       "['Gym', 'Wifi', 'Air conditioning', 'Indoor fireplace']"
      ]
     },
     "execution_count": 14,
     "metadata": {},
     "output_type": "execute_result"
    }
   ],
   "source": [
    "[i for i in df.basic_facilities[297].split(\"'\") if i not in '[], ']"
   ]
  },
  {
   "cell_type": "code",
   "execution_count": 19,
   "metadata": {},
   "outputs": [
    {
     "name": "stdout",
     "output_type": "stream",
     "text": [
      "Hot tub\n",
      "Free parking\n",
      "Pool\n",
      "Kitchen\n",
      "Breakfast\n",
      "Elevator\n",
      "Washer\n",
      "Dryer\n"
     ]
    },
    {
     "data": {
      "text/plain": [
       "['Gym',\n",
       " 'Wifi',\n",
       " 'Self check-in',\n",
       " 'Air conditioning',\n",
       " 'Pets allowed',\n",
       " 'Indoor fireplace',\n",
       " 'Hot tub',\n",
       " 'Free parking',\n",
       " 'Pool',\n",
       " 'Kitchen',\n",
       " 'Breakfast',\n",
       " 'Elevator',\n",
       " 'Washer',\n",
       " 'Dryer']"
      ]
     },
     "execution_count": 19,
     "metadata": {},
     "output_type": "execute_result"
    }
   ],
   "source": [
    "possible = ['Gym', 'Wifi', 'Self check-in', 'Air conditioning', 'Pets allowed', 'Indoor fireplace']\n",
    "\n",
    "for c in df.basic_facilities.sample(250):\n",
    "    b = [i for i in c.split(\"'\") if i not in '[], ']\n",
    "    for f in b:\n",
    "        if f not in possible:\n",
    "            print(f)\n",
    "            possible.append(f)\n",
    "            \n",
    "possible"
   ]
  },
  {
   "cell_type": "code",
   "execution_count": 20,
   "metadata": {},
   "outputs": [
    {
     "name": "stdout",
     "output_type": "stream",
     "text": [
      "['Gym', 'Wifi', 'Self check-in', 'Air conditioning', 'Pets allowed', 'Indoor fireplace', 'Hot tub', 'Free parking', 'Pool', 'Kitchen', 'Breakfast', 'Elevator', 'Washer', 'Dryer']\n"
     ]
    }
   ],
   "source": [
    "print(possible)"
   ]
  },
  {
   "cell_type": "code",
   "execution_count": 29,
   "metadata": {},
   "outputs": [
    {
     "name": "stdout",
     "output_type": "stream",
     "text": [
      "Heating\n",
      "Waterfront\n",
      "Dishwasher\n",
      "Beachfront\n",
      "Ski-in/Ski-out\n"
     ]
    },
    {
     "data": {
      "text/plain": [
       "['Gym',\n",
       " 'Wifi',\n",
       " 'Self check-in',\n",
       " 'Air conditioning',\n",
       " 'Pets allowed',\n",
       " 'Indoor fireplace',\n",
       " 'Hot tub',\n",
       " 'Free parking',\n",
       " 'Pool',\n",
       " 'Kitchen',\n",
       " 'Breakfast',\n",
       " 'Elevator',\n",
       " 'Washer',\n",
       " 'Dryer',\n",
       " 'Heating',\n",
       " 'Waterfront',\n",
       " 'Dishwasher',\n",
       " 'Beachfront',\n",
       " 'Ski-in/Ski-out']"
      ]
     },
     "execution_count": 29,
     "metadata": {},
     "output_type": "execute_result"
    }
   ],
   "source": [
    "possible = ['Gym', 'Wifi', 'Self check-in', 'Air conditioning', 'Pets allowed', 'Indoor fireplace', \n",
    "            'Hot tub', 'Free parking', 'Pool', 'Kitchen', 'Breakfast', 'Elevator', 'Washer', 'Dryer']\n",
    "\n",
    "c = [f'{_}_2021-01-09.csv' \n",
    "     for _ in [f'{s}{f}' \n",
    "               for s in ['texas', 'california', 'alaska', 'arkansas', 'anchorage', 'las_vegas', 'bella_vista', 'north_pole'] \n",
    "               for f in ['', '_super_hosts', '_private_room_super_hosts', '_hotel_room_super_hosts', '_shared_room_super_hosts']]]\n",
    "\n",
    "for f in c:\n",
    "    tdf = pd.read_csv(f)\n",
    "    bfs = tdf.basic_facilities\n",
    "    for bf in bfs:\n",
    "        b = [i for i in bf.split(\"'\") if i not in '[], ']\n",
    "        for _ in b:\n",
    "            if _ not in possible:\n",
    "                print(_)\n",
    "                possible.append(_)\n",
    "\n",
    "possible"
   ]
  },
  {
   "cell_type": "code",
   "execution_count": 30,
   "metadata": {},
   "outputs": [
    {
     "name": "stdout",
     "output_type": "stream",
     "text": [
      "['Gym', 'Wifi', 'Self check-in', 'Air conditioning', 'Pets allowed', 'Indoor fireplace', 'Hot tub', 'Free parking', 'Pool', 'Kitchen', 'Breakfast', 'Elevator', 'Washer', 'Dryer', 'Heating', 'Waterfront', 'Dishwasher', 'Beachfront', 'Ski-in/Ski-out']\n"
     ]
    }
   ],
   "source": [
    "print(possible)"
   ]
  },
  {
   "cell_type": "code",
   "execution_count": 48,
   "metadata": {},
   "outputs": [
    {
     "name": "stdout",
     "output_type": "stream",
     "text": [
      "{'Wifi': True, 'Air conditioning': True, 'Pool': True, 'Kitchen': True, 'Gym': None, 'Self check-in': None, 'Pets allowed': None, 'Indoor fireplace': None, 'Hot tub': None, 'Free parking': None, 'Breakfast': None, 'Elevator': None, 'Washer': None, 'Dryer': None, 'Heating': None, 'Waterfront': None, 'Dishwasher': None, 'Beachfront': None, 'Ski-in/Ski-out': None}\n",
      "{'Hot tub': True, 'Wifi': True, 'Free parking': True, 'Pool': True, 'Gym': None, 'Self check-in': None, 'Air conditioning': None, 'Pets allowed': None, 'Indoor fireplace': None, 'Kitchen': None, 'Breakfast': None, 'Elevator': None, 'Washer': None, 'Dryer': None, 'Heating': None, 'Waterfront': None, 'Dishwasher': None, 'Beachfront': None, 'Ski-in/Ski-out': None}\n",
      "{'Gym': True, 'Elevator': True, 'Wifi': True, 'Self check-in': True, 'Air conditioning': None, 'Pets allowed': None, 'Indoor fireplace': None, 'Hot tub': None, 'Free parking': None, 'Pool': None, 'Kitchen': None, 'Breakfast': None, 'Washer': None, 'Dryer': None, 'Heating': None, 'Waterfront': None, 'Dishwasher': None, 'Beachfront': None, 'Ski-in/Ski-out': None}\n",
      "{'Wifi': True, 'Self check-in': True, 'Air conditioning': True, 'Pets allowed': True, 'Gym': None, 'Indoor fireplace': None, 'Hot tub': None, 'Free parking': None, 'Pool': None, 'Kitchen': None, 'Breakfast': None, 'Elevator': None, 'Washer': None, 'Dryer': None, 'Heating': None, 'Waterfront': None, 'Dishwasher': None, 'Beachfront': None, 'Ski-in/Ski-out': None}\n",
      "{'Wifi': True, 'Air conditioning': True, 'Pets allowed': True, 'Kitchen': True, 'Gym': None, 'Self check-in': None, 'Indoor fireplace': None, 'Hot tub': None, 'Free parking': None, 'Pool': None, 'Breakfast': None, 'Elevator': None, 'Washer': None, 'Dryer': None, 'Heating': None, 'Waterfront': None, 'Dishwasher': None, 'Beachfront': None, 'Ski-in/Ski-out': None}\n",
      "{'Wifi': True, 'Free parking': True, 'Gym': None, 'Self check-in': None, 'Air conditioning': None, 'Pets allowed': None, 'Indoor fireplace': None, 'Hot tub': None, 'Pool': None, 'Kitchen': None, 'Breakfast': None, 'Elevator': None, 'Washer': None, 'Dryer': None, 'Heating': None, 'Waterfront': None, 'Dishwasher': None, 'Beachfront': None, 'Ski-in/Ski-out': None}\n",
      "{'Wifi': True, 'Self check-in': True, 'Air conditioning': True, 'Gym': None, 'Pets allowed': None, 'Indoor fireplace': None, 'Hot tub': None, 'Free parking': None, 'Pool': None, 'Kitchen': None, 'Breakfast': None, 'Elevator': None, 'Washer': None, 'Dryer': None, 'Heating': None, 'Waterfront': None, 'Dishwasher': None, 'Beachfront': None, 'Ski-in/Ski-out': None}\n",
      "{'Wifi': True, 'Air conditioning': True, 'Kitchen': True, 'Free parking': True, 'Gym': None, 'Self check-in': None, 'Pets allowed': None, 'Indoor fireplace': None, 'Hot tub': None, 'Pool': None, 'Breakfast': None, 'Elevator': None, 'Washer': None, 'Dryer': None, 'Heating': None, 'Waterfront': None, 'Dishwasher': None, 'Beachfront': None, 'Ski-in/Ski-out': None}\n",
      "{'Wifi': True, 'Air conditioning': True, 'Pets allowed': True, 'Pool': True, 'Gym': None, 'Self check-in': None, 'Indoor fireplace': None, 'Hot tub': None, 'Free parking': None, 'Kitchen': None, 'Breakfast': None, 'Elevator': None, 'Washer': None, 'Dryer': None, 'Heating': None, 'Waterfront': None, 'Dishwasher': None, 'Beachfront': None, 'Ski-in/Ski-out': None}\n",
      "{'Gym': True, 'Elevator': True, 'Wifi': True, 'Self check-in': True, 'Air conditioning': None, 'Pets allowed': None, 'Indoor fireplace': None, 'Hot tub': None, 'Free parking': None, 'Pool': None, 'Kitchen': None, 'Breakfast': None, 'Washer': None, 'Dryer': None, 'Heating': None, 'Waterfront': None, 'Dishwasher': None, 'Beachfront': None, 'Ski-in/Ski-out': None}\n"
     ]
    }
   ],
   "source": [
    "sample = df.basic_facilities.sample(10)\n",
    "\n",
    "for bf in sample:\n",
    "    # make list of this listing's basic facilites\n",
    "    basic_facilities = [i for i in bf.split(\"'\") if i not in '[], ']\n",
    "\n",
    "    # list of known possible basic facilites\n",
    "    possible = ['Gym', 'Wifi', 'Self check-in', 'Air conditioning', 'Pets allowed', 'Indoor fireplace', 'Hot tub', 'Free parking', 'Pool', \n",
    "                'Kitchen', 'Breakfast', 'Elevator', 'Washer', 'Dryer', 'Heating', 'Waterfront', 'Dishwasher', 'Beachfront', 'Ski-in/Ski-out']\n",
    "\n",
    "    # open a record for this listing\n",
    "    room_dict = {}\n",
    "\n",
    "    # add each basic facility to this room's record \n",
    "    for f in basic_facilities:\n",
    "        if f in possible:\n",
    "            room_dict[f] = True\n",
    "        else:\n",
    "            raise Exception(f'unexpected basic_facilites | {f} | is new?')\n",
    "\n",
    "    # add None for any basic facilities this listing doesn't offer\n",
    "    for f in possible:\n",
    "        room_dict[f] = room_dict.get(f)\n",
    "\n",
    "    print(room_dict)"
   ]
  },
  {
   "cell_type": "code",
   "execution_count": 39,
   "metadata": {},
   "outputs": [
    {
     "data": {
      "text/plain": [
       "19"
      ]
     },
     "execution_count": 39,
     "metadata": {},
     "output_type": "execute_result"
    }
   ],
   "source": [
    "# how many columns did we just make?\n",
    "len(possible)"
   ]
  },
  {
   "cell_type": "code",
   "execution_count": 51,
   "metadata": {},
   "outputs": [
    {
     "name": "stdout",
     "output_type": "stream",
     "text": [
      "\"gym_bool\",\n",
      "\"wifi_bool\",\n",
      "\"self_check_in_bool\",\n",
      "\"air_conditioning_bool\",\n",
      "\"pets_allowed_bool\",\n",
      "\"indoor_fireplace_bool\",\n",
      "\"hot_tub_bool\",\n",
      "\"free_parking_bool\",\n",
      "\"pool_bool\",\n",
      "\"kitchen_bool\",\n",
      "\"breakfast_bool\",\n",
      "\"elevator_bool\",\n",
      "\"washer_bool\",\n",
      "\"dryer_bool\",\n",
      "\"heating_bool\",\n",
      "\"waterfront_bool\",\n",
      "\"dishwasher_bool\",\n",
      "\"beachfront_bool\",\n",
      "\"ski_in_ski_out_bool\",\n"
     ]
    }
   ],
   "source": [
    "# generate column names\n",
    "for p in possible:\n",
    "    print(f'\"{p.lower().replace(\" \", \"_\").replace(\"-\", \"_\").replace(\"/\", \"_\")}_bool\",')"
   ]
  },
  {
   "cell_type": "markdown",
   "metadata": {},
   "source": [
    "## Before"
   ]
  },
  {
   "cell_type": "code",
   "execution_count": null,
   "metadata": {},
   "outputs": [],
   "source": [
    "def get_basic_facilities(listing):\n",
    "    ''' Returns the basic facilities'''\n",
    "    try:\n",
    "        output = listing.findAll(\"div\", {\"class\":\"_kqh46o\"})[1].text\n",
    "        output = output.split(' · ')\n",
    "    except:\n",
    "        output = []\n",
    "    return output"
   ]
  },
  {
   "cell_type": "markdown",
   "metadata": {},
   "source": [
    "## After"
   ]
  },
  {
   "cell_type": "code",
   "execution_count": 109,
   "metadata": {},
   "outputs": [],
   "source": [
    "def get_basic_facilities(listing):\n",
    "    '''\n",
    "    returns a dictionary of the given listing's basic facilities with True / None values based on known possible basic facilites\n",
    "    '''\n",
    "    # make list of this listing's basic facilites\n",
    "    try:\n",
    "        basic_facilities = listing.findAll(\"div\", {\"class\":\"_kqh46o\"})[1].text\n",
    "        basic_facilities = basic_facilities.split(' · ')\n",
    "    except:\n",
    "        basic_facilities = []\n",
    "\n",
    "    # list of known possible basic facilites\n",
    "    possible = ['Gym', 'Wifi', 'Self check-in', 'Air conditioning', 'Pets allowed', 'Indoor fireplace', 'Hot tub', 'Free parking', 'Pool', \n",
    "                'Kitchen', 'Breakfast', 'Elevator', 'Washer', 'Dryer', 'Heating', 'Waterfront', 'Dishwasher', 'Beachfront', 'Ski-in/Ski-out']\n",
    "\n",
    "    # open a record for this listing\n",
    "    room_dict = {}\n",
    "\n",
    "    # add each basic facility to this room's record \n",
    "    for f in basic_facilities:\n",
    "        if f in possible:\n",
    "            room_dict[f] = True\n",
    "        else:\n",
    "            raise Exception(f'unexpected basic_facilites | {f} | is new?')\n",
    "\n",
    "    # add None for any basic facilities this listing doesn't offer\n",
    "    for f in possible:\n",
    "        room_dict[f] = room_dict.get(f, None)\n",
    "\n",
    "    return room_dict"
   ]
  },
  {
   "cell_type": "code",
   "execution_count": 110,
   "metadata": {},
   "outputs": [
    {
     "data": {
      "text/plain": [
       "20"
      ]
     },
     "execution_count": 110,
     "metadata": {},
     "output_type": "execute_result"
    }
   ],
   "source": [
    "import requests\n",
    "from bs4 import BeautifulSoup\n",
    "\n",
    "def get_page(url):\n",
    "    \"\"\"\n",
    "    returns a soup object that contains all the information of a given webpage\n",
    "    \"\"\"\n",
    "    result = requests.get(url)\n",
    "    content = result.content\n",
    "    return BeautifulSoup(content, features='html.parser')\n",
    "\n",
    "\n",
    "def get_room_classes(soup_page):\n",
    "    \"\"\"\n",
    "    returns all the listings that can be found on the page (soup object) in a list\n",
    "    \"\"\"\n",
    "    rooms = soup_page.findAll('div', {'class':'_8ssblpx'})  #  _8ssblpx _uhpzdny _gig1e7 _1wcpzyga\n",
    "    result = []\n",
    "    for room in rooms:\n",
    "        result.append(room)\n",
    "    return result\n",
    "\n",
    "c = get_room_classes(get_page('https://www.airbnb.com/s/San-Francisco--California--United-States/homes'))\n",
    "\n",
    "len(c)"
   ]
  },
  {
   "cell_type": "code",
   "execution_count": 111,
   "metadata": {},
   "outputs": [
    {
     "data": {
      "text/plain": [
       "'Wifi · Heating'"
      ]
     },
     "execution_count": 111,
     "metadata": {},
     "output_type": "execute_result"
    }
   ],
   "source": [
    "c[0].findAll(\"div\", {\"class\":\"_kqh46o\"})[1].text"
   ]
  },
  {
   "cell_type": "code",
   "execution_count": 112,
   "metadata": {},
   "outputs": [
    {
     "data": {
      "text/plain": [
       "['Wifi', 'Heating']"
      ]
     },
     "execution_count": 112,
     "metadata": {},
     "output_type": "execute_result"
    }
   ],
   "source": [
    "bf = c[0].findAll(\"div\", {\"class\":\"_kqh46o\"})[1].text\n",
    "\n",
    "bf.split(' · ')"
   ]
  },
  {
   "cell_type": "code",
   "execution_count": 113,
   "metadata": {},
   "outputs": [
    {
     "data": {
      "text/plain": [
       "{'Wifi': True, 'Heating': True}"
      ]
     },
     "execution_count": 113,
     "metadata": {},
     "output_type": "execute_result"
    }
   ],
   "source": [
    "f_dict = {}\n",
    "for f in bf.split(' · '):\n",
    "    if f in possible:\n",
    "        f_dict[f] = True\n",
    "f_dict"
   ]
  },
  {
   "cell_type": "code",
   "execution_count": 114,
   "metadata": {},
   "outputs": [
    {
     "data": {
      "text/plain": [
       "{'Wifi': True,\n",
       " 'Heating': True,\n",
       " 'Gym': None,\n",
       " 'Self check-in': None,\n",
       " 'Air conditioning': None,\n",
       " 'Pets allowed': None,\n",
       " 'Indoor fireplace': None,\n",
       " 'Hot tub': None,\n",
       " 'Free parking': None,\n",
       " 'Pool': None,\n",
       " 'Kitchen': None,\n",
       " 'Breakfast': None,\n",
       " 'Elevator': None,\n",
       " 'Washer': None,\n",
       " 'Dryer': None,\n",
       " 'Waterfront': None,\n",
       " 'Dishwasher': None,\n",
       " 'Beachfront': None,\n",
       " 'Ski-in/Ski-out': None}"
      ]
     },
     "execution_count": 114,
     "metadata": {},
     "output_type": "execute_result"
    }
   ],
   "source": [
    "for f in possible:\n",
    "    f_dict[f] = f_dict.get(f, None)\n",
    "    \n",
    "f_dict"
   ]
  },
  {
   "cell_type": "code",
   "execution_count": 115,
   "metadata": {},
   "outputs": [
    {
     "name": "stdout",
     "output_type": "stream",
     "text": [
      "yes\n",
      "yes\n",
      "yes\n"
     ]
    },
    {
     "data": {
      "text/plain": [
       "{'Wifi': True,\n",
       " 'Kitchen': True,\n",
       " 'Heating': True,\n",
       " 'Gym': None,\n",
       " 'Self check-in': None,\n",
       " 'Air conditioning': None,\n",
       " 'Pets allowed': None,\n",
       " 'Indoor fireplace': None,\n",
       " 'Hot tub': None,\n",
       " 'Free parking': None,\n",
       " 'Pool': None,\n",
       " 'Breakfast': None,\n",
       " 'Elevator': None,\n",
       " 'Washer': None,\n",
       " 'Dryer': None,\n",
       " 'Waterfront': None,\n",
       " 'Dishwasher': None,\n",
       " 'Beachfront': None,\n",
       " 'Ski-in/Ski-out': None}"
      ]
     },
     "execution_count": 115,
     "metadata": {},
     "output_type": "execute_result"
    }
   ],
   "source": [
    "get_basic_facilities(c[2])"
   ]
  },
  {
   "cell_type": "code",
   "execution_count": null,
   "metadata": {},
   "outputs": [],
   "source": []
  },
  {
   "cell_type": "code",
   "execution_count": null,
   "metadata": {},
   "outputs": [],
   "source": []
  },
  {
   "cell_type": "code",
   "execution_count": null,
   "metadata": {},
   "outputs": [],
   "source": []
  }
 ],
 "metadata": {
  "kernelspec": {
   "display_name": "Python 3",
   "language": "python",
   "name": "python3"
  },
  "language_info": {
   "codemirror_mode": {
    "name": "ipython",
    "version": 3
   },
   "file_extension": ".py",
   "mimetype": "text/x-python",
   "name": "python",
   "nbconvert_exporter": "python",
   "pygments_lexer": "ipython3",
   "version": "3.7.9"
  }
 },
 "nbformat": 4,
 "nbformat_minor": 4
}
