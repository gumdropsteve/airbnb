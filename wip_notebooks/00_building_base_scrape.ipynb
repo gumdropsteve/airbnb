{
 "cells": [
  {
   "cell_type": "code",
   "execution_count": 1,
   "metadata": {},
   "outputs": [],
   "source": [
    "import requests\n",
    "from bs4 import BeautifulSoup"
   ]
  },
  {
   "cell_type": "code",
   "execution_count": 2,
   "metadata": {},
   "outputs": [],
   "source": [
    "def get_page(url):\n",
    "    \"\"\"\n",
    "    returns a soup object that contains all the information of a given webpage\n",
    "    \"\"\"\n",
    "    result = requests.get(url)\n",
    "    content = result.content\n",
    "    return BeautifulSoup(content, features='html.parser')\n",
    "\n",
    "\n",
    "def get_room_classes(soup_page):\n",
    "    \"\"\"\n",
    "    returns all the listings that can be found on the page (soup object) in a list\n",
    "    \"\"\"\n",
    "    rooms = soup_page.findAll('div', {'class':'_8ssblpx'})\n",
    "    result = []\n",
    "    for room in rooms:\n",
    "        result.append(room)\n",
    "    return result\n"
   ]
  },
  {
   "cell_type": "code",
   "execution_count": 3,
   "metadata": {},
   "outputs": [],
   "source": [
    "las_vegas_link = 'https://www.airbnb.com/s/all?refinement_paths%5B%5D=%2Fhomes&query=las+vegas'"
   ]
  },
  {
   "cell_type": "code",
   "execution_count": 4,
   "metadata": {},
   "outputs": [
    {
     "data": {
      "text/plain": [
       "(20, list)"
      ]
     },
     "execution_count": 4,
     "metadata": {},
     "output_type": "execute_result"
    }
   ],
   "source": [
    "# get_page(las_vegas_link)\n",
    "rc = get_room_classes(get_page(las_vegas_link))\n",
    "len(rc), type(rc)#, rc[0]"
   ]
  },
  {
   "cell_type": "code",
   "execution_count": 5,
   "metadata": {},
   "outputs": [
    {
     "data": {
      "text/plain": [
       "'https://airbnb.com/rooms/47197033?previous_page_section_name=1000&federated_search_id=2404aeba-cfe4-4f44-ad64-0857449875d3'"
      ]
     },
     "execution_count": 5,
     "metadata": {},
     "output_type": "execute_result"
    }
   ],
   "source": [
    "def get_listing_link(listing):\n",
    "    \"\"\"\n",
    "    returns the URL link of given listing\n",
    "    \"\"\"\n",
    "    return 'https://airbnb.com' + listing.find('a')['href']\n",
    "\n",
    "get_listing_link(rc[0])"
   ]
  },
  {
   "cell_type": "code",
   "execution_count": 6,
   "metadata": {},
   "outputs": [
    {
     "data": {
      "text/plain": [
       "'Condo Next to Desert Shores - null - Las Vegas'"
      ]
     },
     "execution_count": 6,
     "metadata": {},
     "output_type": "execute_result"
    }
   ],
   "source": [
    "def get_listing_title(listing):\n",
    "    \"\"\"\n",
    "    returns the title of given listing\n",
    "    \"\"\"\n",
    "    return listing.find('meta')['content']\n",
    "\n",
    "get_listing_title(rc[0])"
   ]
  },
  {
   "cell_type": "code",
   "execution_count": 7,
   "metadata": {},
   "outputs": [
    {
     "data": {
      "text/plain": [
       "'Great Room in a House close to the strip - null - Las Vegas'"
      ]
     },
     "execution_count": 7,
     "metadata": {},
     "output_type": "execute_result"
    }
   ],
   "source": [
    "get_listing_title(rc[1])"
   ]
  },
  {
   "cell_type": "code",
   "execution_count": 8,
   "metadata": {},
   "outputs": [
    {
     "data": {
      "text/plain": [
       "'Entire condominium in Las Vegas'"
      ]
     },
     "execution_count": 8,
     "metadata": {},
     "output_type": "execute_result"
    }
   ],
   "source": [
    "def get_top_row(listing):\n",
    "    \"\"\"\n",
    "    returns the top row of given listing's info\n",
    "    \"\"\"\n",
    "    return listing.find('div', {'class':'_1tanv1h'}).text  # _167gordg\n",
    "\n",
    "get_top_row(rc[0])"
   ]
  },
  {
   "cell_type": "code",
   "execution_count": 9,
   "metadata": {},
   "outputs": [
    {
     "data": {
      "text/plain": [
       "'Private room in Las Vegas'"
      ]
     },
     "execution_count": 9,
     "metadata": {},
     "output_type": "execute_result"
    }
   ],
   "source": [
    "get_top_row(rc[1])"
   ]
  },
  {
   "cell_type": "code",
   "execution_count": 10,
   "metadata": {},
   "outputs": [
    {
     "data": {
      "text/plain": [
       "'2 guests · 1 bedroom · 1 bed · 1 bath'"
      ]
     },
     "execution_count": 10,
     "metadata": {},
     "output_type": "execute_result"
    }
   ],
   "source": [
    "def get_room_info(listing):\n",
    "    \"\"\"\n",
    "    returns room info of listing \n",
    "    \"\"\"\n",
    "    return listing.find('div', {'class', '_kqh46o'}).text\n",
    "\n",
    "get_room_info(rc[0])"
   ]
  },
  {
   "cell_type": "code",
   "execution_count": 11,
   "metadata": {},
   "outputs": [
    {
     "data": {
      "text/plain": [
       "'2 guests · 1 bedroom · 1 bed · 1 shared bath'"
      ]
     },
     "execution_count": 11,
     "metadata": {},
     "output_type": "execute_result"
    }
   ],
   "source": [
    "get_room_info(rc[1])"
   ]
  },
  {
   "cell_type": "code",
   "execution_count": 12,
   "metadata": {},
   "outputs": [
    {
     "data": {
      "text/plain": [
       "'$70 / night'"
      ]
     },
     "execution_count": 12,
     "metadata": {},
     "output_type": "execute_result"
    }
   ],
   "source": [
    "def get_room_price(listing):\n",
    "    \"\"\"\n",
    "    returns the nightly rate (price) of given listing\n",
    "    \"\"\"\n",
    "    price_text = listing.find('div', {'class':'_ls0e43'}).text\n",
    "    price = price_text.split('Price:')\n",
    "    return price[1]\n",
    "\n",
    "get_room_price(rc[0])"
   ]
  },
  {
   "cell_type": "code",
   "execution_count": 13,
   "metadata": {},
   "outputs": [
    {
     "data": {
      "text/plain": [
       "'$21 / night'"
      ]
     },
     "execution_count": 13,
     "metadata": {},
     "output_type": "execute_result"
    }
   ],
   "source": [
    "get_room_price(rc[1])"
   ]
  },
  {
   "cell_type": "code",
   "execution_count": 14,
   "metadata": {},
   "outputs": [
    {
     "data": {
      "text/plain": [
       "'Wifi·Airconditioning·Pool·Kitchen'"
      ]
     },
     "execution_count": 14,
     "metadata": {},
     "output_type": "execute_result"
    }
   ],
   "source": [
    "def get_basic_facilities(listing):\n",
    "    ''' Returns the basic facilities'''\n",
    "    try:\n",
    "        output = listing.findAll(\"div\", {\"class\":\"_kqh46o\"})[1].text.replace(\" \",\"\") #Speeds up cleaning\n",
    "    except:\n",
    "        output = []\n",
    "    return output\n",
    "\n",
    "get_basic_facilities(rc[0])"
   ]
  },
  {
   "cell_type": "code",
   "execution_count": 15,
   "metadata": {},
   "outputs": [
    {
     "data": {
      "text/plain": [
       "'Wifi·Selfcheck-in·Airconditioning·Petsallowed'"
      ]
     },
     "execution_count": 15,
     "metadata": {},
     "output_type": "execute_result"
    }
   ],
   "source": [
    "get_basic_facilities(rc[1])"
   ]
  },
  {
   "cell_type": "code",
   "execution_count": 16,
   "metadata": {},
   "outputs": [],
   "source": [
    "def get_room_rating(listing):\n",
    "    \"\"\"\n",
    "    returns star rating of given listing\n",
    "    \"\"\"\n",
    "    try:\n",
    "        return listing.find('div', {'class':'_vaj62s'}).text\n",
    "    except:\n",
    "        return listing.find('div', {'class':'_vaj62s'})\n",
    "\n",
    "get_room_rating(rc[0])"
   ]
  },
  {
   "cell_type": "code",
   "execution_count": 17,
   "metadata": {},
   "outputs": [
    {
     "name": "stdout",
     "output_type": "stream",
     "text": [
      "None\n"
     ]
    }
   ],
   "source": [
    "print(get_room_rating(rc[0]))"
   ]
  },
  {
   "cell_type": "code",
   "execution_count": 18,
   "metadata": {},
   "outputs": [
    {
     "data": {
      "text/plain": [
       "'Rating 4.80 out of 5;4.805 reviews\\xa0(5)'"
      ]
     },
     "execution_count": 18,
     "metadata": {},
     "output_type": "execute_result"
    }
   ],
   "source": [
    "get_room_rating(rc[1])"
   ]
  },
  {
   "cell_type": "code",
   "execution_count": 31,
   "metadata": {},
   "outputs": [
    {
     "data": {
      "text/plain": [
       "'Rating 4.56 out of 5;4.5652 reviews\\xa0(52)'"
      ]
     },
     "execution_count": 31,
     "metadata": {},
     "output_type": "execute_result"
    }
   ],
   "source": [
    "get_room_rating(rc[16])"
   ]
  },
  {
   "cell_type": "code",
   "execution_count": 30,
   "metadata": {},
   "outputs": [
    {
     "data": {
      "text/plain": [
       "<div class=\"_8ssblpx\"><div class=\"_gig1e7\"><div itemprop=\"itemListElement\" itemscope=\"\" itemtype=\"http://schema.org/ListItem\"><meta content=\"Cozy 3rd floor space. Slightly roomy. - null - Las Vegas\" itemprop=\"name\"/><meta content=\"7\" itemprop=\"position\"/><meta content=\"undefined/rooms/47221579?previous_page_section_name=1000\" itemprop=\"url\"/><div><div><div class=\"_8s3ctt\"><a aria-label=\"Cozy 3rd floor space. Slightly roomy.\" class=\"_gjfol0\" data-check-info-section=\"true\" href=\"/rooms/47221579?previous_page_section_name=1000&amp;federated_search_id=2404aeba-cfe4-4f44-ad64-0857449875d3\" rel=\"noopener noreferrer\" target=\"listing_47221579\"></a><div class=\"_1nz9l7j\"><div class=\"_2n7voam\"><div class=\"_gjw2an\" style=\"padding-top:66.6667%;background:#484848\"><div class=\"_1szwzht\"><div aria-busy=\"false\" aria-label=\"Cozy 3rd floor space. Slightly roomy.\" class=\"_hxt6u1e\" role=\"img\" style=\"padding-top:66.6667%\"><div class=\"_4626ulj\"><img alt=\"Cozy 3rd floor space. Slightly roomy.\" aria-hidden=\"true\" class=\"_91slf2a\" data-original-uri=\"https://a0.muscache.com/im/pictures/7941f819-5899-45aa-8ec9-96b19d7fca69.jpg?im_w=720\" src=\"https://a0.muscache.com/im/pictures/7941f819-5899-45aa-8ec9-96b19d7fca69.jpg?im_w=720\" style=\"object-fit:cover\"/><div class=\"_10xjrv2u\" style=\"background-image:url(https://a0.muscache.com/im/pictures/7941f819-5899-45aa-8ec9-96b19d7fca69.jpg?im_w=720);background-size:cover\"></div></div></div></div></div><div class=\"_5ogqp7\"><div class=\"_zjunba\" style=\"padding:8px\"><div></div></div><div class=\"_1xzy2\"><div class=\"_hd88sb\"><button aria-label=\"Previous image\" class=\"_177jc1o\" type=\"button\"><span class=\"_3hmsj\"><svg aria-hidden=\"true\" focusable=\"false\" role=\"presentation\" style=\"height:10px;width:10px;display:block;fill:currentColor\" viewbox=\"0 0 16 16\"><path d=\"m10.8 16c-.4 0-.7-.1-.9-.4l-6.8-6.7c-.5-.5-.5-1.3 0-1.8l6.8-6.7c.5-.5 1.2-.5 1.7 0s .5 1.2 0 1.7l-5.8 5.9 5.8 5.9c.5.5.5 1.2 0 1.7-.2.3-.5.4-.8.4\"></path></svg></span></button></div><div class=\"_l9kk1hc\"><button aria-label=\"Next image\" class=\"_177jc1o\" type=\"button\"><span class=\"_3hmsj\"><svg aria-hidden=\"true\" focusable=\"false\" role=\"presentation\" style=\"height:10px;width:10px;display:block;fill:currentColor\" viewbox=\"0 0 16 16\"><path d=\"m5.3 16c .3 0 .6-.1.8-.4l6.8-6.7c.5-.5.5-1.3 0-1.8l-6.8-6.7c-.5-.5-1.2-.5-1.7 0s-.5 1.2 0 1.7l5.8 5.9-5.8 5.9c-.5.5-.5 1.2 0 1.7.2.3.5.4.9.4\"></path></svg></span></button></div></div><div class=\"_1coc2b2\"></div></div></div></div><div class=\"_tmwq9g\"><div class=\"_r6zroz\"><div class=\"_1jzvdu8\"><div class=\"_1tanv1h\" style=\"margin-bottom:4px\"><div class=\"_167qordg\">Private room in Las Vegas</div></div><div class=\"_bzh5lkq\" style=\"line-height:24px;max-height:24px;overflow:hidden;text-overflow:ellipsis;display:-webkit-box;-webkit-line-clamp:1;-webkit-box-orient:vertical\"> <!-- -->Cozy 3rd floor space. Slightly roomy.</div></div></div><div class=\"_12xcxtl\" style=\"margin-top:11px;width:32px\"></div><div class=\"_kqh46o\" style=\"margin-top:9px\">2 guests<span aria-hidden=\"true\"> · </span>1 bedroom<span aria-hidden=\"true\"> · </span>0 beds<span aria-hidden=\"true\"> · </span>1.5 shared baths</div><div class=\"_kqh46o\" style=\"margin-top:4px\">Wifi<span aria-hidden=\"true\"> · </span>Air conditioning<span aria-hidden=\"true\"> · </span>Pets allowed<span aria-hidden=\"true\"> · </span>Kitchen</div><div class=\"_1bbeetd\"><div class=\"_ls0e43\"><div class=\"_l2ulkt8\"><div class=\"_1fwiw8gv\"><span><span class=\"_1p7iugi\"><span class=\"_krjbj\">Price:</span>$21</span> / night</span></div></div></div></div></div></div><div></div><div style=\"margin-top:24px;margin-bottom:4px\"><div class=\"_7qp4lh\"></div></div></div></div></div></div></div>"
      ]
     },
     "execution_count": 30,
     "metadata": {},
     "output_type": "execute_result"
    }
   ],
   "source": [
    "rc[6]"
   ]
  },
  {
   "cell_type": "code",
   "execution_count": 19,
   "metadata": {},
   "outputs": [
    {
     "name": "stdout",
     "output_type": "stream",
     "text": [
      "Rating 4.80 out of 5;4.805 reviews (5)\n"
     ]
    }
   ],
   "source": [
    "print(get_room_rating(rc[1]))"
   ]
  },
  {
   "cell_type": "code",
   "execution_count": 20,
   "metadata": {},
   "outputs": [],
   "source": [
    "def get_n_reviews(listing):\n",
    "    '''\n",
    "    Returns the number of reviews\n",
    "    '''\n",
    "    try:  # Not all listings have reviews // extraction failed\n",
    "        output = listing.findAll(\"span\", {\"class\":\"_krjbj\"})[1].text\n",
    "    except:\n",
    "        output = None   # Indicate that the extraction failed -> can indicate no reviews or a mistake in scraping\n",
    "    return output\n",
    "\n",
    "\n",
    "get_n_reviews(rc[0])"
   ]
  },
  {
   "cell_type": "code",
   "execution_count": 21,
   "metadata": {},
   "outputs": [
    {
     "data": {
      "text/plain": [
       "'5 reviews'"
      ]
     },
     "execution_count": 21,
     "metadata": {},
     "output_type": "execute_result"
    }
   ],
   "source": [
    "get_n_reviews(rc[1])"
   ]
  },
  {
   "cell_type": "code",
   "execution_count": 22,
   "metadata": {},
   "outputs": [
    {
     "data": {
      "text/html": [
       "<div>\n",
       "<style scoped>\n",
       "    .dataframe tbody tr th:only-of-type {\n",
       "        vertical-align: middle;\n",
       "    }\n",
       "\n",
       "    .dataframe tbody tr th {\n",
       "        vertical-align: top;\n",
       "    }\n",
       "\n",
       "    .dataframe thead th {\n",
       "        text-align: right;\n",
       "    }\n",
       "</style>\n",
       "<table border=\"1\" class=\"dataframe\">\n",
       "  <thead>\n",
       "    <tr style=\"text-align: right;\">\n",
       "      <th></th>\n",
       "      <th>a</th>\n",
       "      <th>b</th>\n",
       "      <th>c</th>\n",
       "      <th>d</th>\n",
       "      <th>e</th>\n",
       "      <th>f</th>\n",
       "      <th>g</th>\n",
       "      <th>h</th>\n",
       "    </tr>\n",
       "  </thead>\n",
       "  <tbody>\n",
       "    <tr>\n",
       "      <th>0</th>\n",
       "      <td>https://airbnb.com/rooms/47197033?previous_pag...</td>\n",
       "      <td>Condo Next to Desert Shores - null - Las Vegas</td>\n",
       "      <td>Entire condominium in Las Vegas</td>\n",
       "      <td>2 guests · 1 bedroom · 1 bed · 1 bath</td>\n",
       "      <td>$70 / night</td>\n",
       "      <td>Wifi·Airconditioning·Pool·Kitchen</td>\n",
       "      <td>None</td>\n",
       "      <td>None</td>\n",
       "    </tr>\n",
       "    <tr>\n",
       "      <th>1</th>\n",
       "      <td>https://airbnb.com/rooms/45827691?previous_pag...</td>\n",
       "      <td>Great Room in a House close to the strip - nul...</td>\n",
       "      <td>Private room in Las Vegas</td>\n",
       "      <td>2 guests · 1 bedroom · 1 bed · 1 shared bath</td>\n",
       "      <td>$21 / night</td>\n",
       "      <td>Wifi·Selfcheck-in·Airconditioning·Petsallowed</td>\n",
       "      <td>Rating 4.80 out of 5;4.805 reviews (5)</td>\n",
       "      <td>5 reviews</td>\n",
       "    </tr>\n",
       "    <tr>\n",
       "      <th>2</th>\n",
       "      <td>https://airbnb.com/rooms/44416011?previous_pag...</td>\n",
       "      <td>Eggeman 8 - null - Las Vegas</td>\n",
       "      <td>Entire condominium in Las Vegas</td>\n",
       "      <td>4 guests · 2 bedrooms · 3 beds · 1.5 baths</td>\n",
       "      <td>$52 / night</td>\n",
       "      <td>Wifi·Airconditioning·Petsallowed·Pool</td>\n",
       "      <td>Rating 4.92 out of 5;4.9237 reviews (37)</td>\n",
       "      <td>37 reviews</td>\n",
       "    </tr>\n",
       "    <tr>\n",
       "      <th>3</th>\n",
       "      <td>https://airbnb.com/rooms/21055421?previous_pag...</td>\n",
       "      <td>Private suite with private bathroom. - null - ...</td>\n",
       "      <td>Private room in Las Vegas</td>\n",
       "      <td>1 guest · 1 bedroom · 1 bed · 1 private bath</td>\n",
       "      <td>$23 / night</td>\n",
       "      <td>Wifi·Pool·Kitchen·Freeparking</td>\n",
       "      <td>None</td>\n",
       "      <td>None</td>\n",
       "    </tr>\n",
       "    <tr>\n",
       "      <th>4</th>\n",
       "      <td>https://airbnb.com/rooms/47237465?previous_pag...</td>\n",
       "      <td>9min from the strip. 1min from the shopping ce...</td>\n",
       "      <td>Private room in Las Vegas</td>\n",
       "      <td>1 guest · 1 bedroom · 1 bed · 1.5 shared baths</td>\n",
       "      <td>$24 / night</td>\n",
       "      <td>Gym·Wifi·Airconditioning·Kitchen</td>\n",
       "      <td>None</td>\n",
       "      <td>None</td>\n",
       "    </tr>\n",
       "    <tr>\n",
       "      <th>5</th>\n",
       "      <td>https://airbnb.com/rooms/46263193?previous_pag...</td>\n",
       "      <td>Master bedroom in a new, CLEAN, safe home! - n...</td>\n",
       "      <td>Private room in Las Vegas</td>\n",
       "      <td>1 guest · 1 bedroom · 1 bed · 1.5 baths</td>\n",
       "      <td>$29 / night</td>\n",
       "      <td>Wifi·Selfcheck-in·Airconditioning·Kitchen</td>\n",
       "      <td>None</td>\n",
       "      <td>None</td>\n",
       "    </tr>\n",
       "    <tr>\n",
       "      <th>6</th>\n",
       "      <td>https://airbnb.com/rooms/47221579?previous_pag...</td>\n",
       "      <td>Cozy 3rd floor space. Slightly roomy. - null -...</td>\n",
       "      <td>Private room in Las Vegas</td>\n",
       "      <td>2 guests · 1 bedroom · 0 beds · 1.5 shared baths</td>\n",
       "      <td>$21 / night</td>\n",
       "      <td>Wifi·Airconditioning·Petsallowed·Kitchen</td>\n",
       "      <td>None</td>\n",
       "      <td>None</td>\n",
       "    </tr>\n",
       "    <tr>\n",
       "      <th>7</th>\n",
       "      <td>https://airbnb.com/rooms/37289480?previous_pag...</td>\n",
       "      <td>Private king master bedroom near center of Veg...</td>\n",
       "      <td>Private room in Las Vegas</td>\n",
       "      <td>1 guest · 1 bedroom · 1 bed · 2 shared baths</td>\n",
       "      <td>$16 / night</td>\n",
       "      <td>Wifi·Airconditioning·Kitchen·Freeparking</td>\n",
       "      <td>None</td>\n",
       "      <td>None</td>\n",
       "    </tr>\n",
       "    <tr>\n",
       "      <th>8</th>\n",
       "      <td>https://airbnb.com/rooms/41602679?previous_pag...</td>\n",
       "      <td>Hospitality House 3 - null - Las Vegas</td>\n",
       "      <td>Private room in Las Vegas</td>\n",
       "      <td>1 guest · 1 bedroom · 1 bed · 1 shared bath</td>\n",
       "      <td>$24 / night</td>\n",
       "      <td>Wifi·Airconditioning·Indoorfireplace·Kitchen</td>\n",
       "      <td>Rating 4.54 out of 5;4.5413 reviews (13)</td>\n",
       "      <td>13 reviews</td>\n",
       "    </tr>\n",
       "    <tr>\n",
       "      <th>9</th>\n",
       "      <td>https://airbnb.com/rooms/45439619?previous_pag...</td>\n",
       "      <td>Tahiti Village Bora, Bora in Las Vegas 1 BR Su...</td>\n",
       "      <td>Entire condominium in Las Vegas</td>\n",
       "      <td>4 guests · 1 bedroom · 2 beds · 1 bath</td>\n",
       "      <td>$60 / night</td>\n",
       "      <td>Wifi·Selfcheck-in·Airconditioning·Pool</td>\n",
       "      <td>Rating 5.0 out of 5;5.04 reviews (4)</td>\n",
       "      <td>4 reviews</td>\n",
       "    </tr>\n",
       "    <tr>\n",
       "      <th>10</th>\n",
       "      <td>https://airbnb.com/rooms/29337338?previous_pag...</td>\n",
       "      <td>Beautiful bedroom near center of Vegas “1” - n...</td>\n",
       "      <td>Private room in Las Vegas</td>\n",
       "      <td>2 guests · 1 bedroom · 1 bed · 1 shared bath</td>\n",
       "      <td>$22 / night</td>\n",
       "      <td>Wifi·Selfcheck-in·Airconditioning·Kitchen</td>\n",
       "      <td>Rating 4.33 out of 5;4.33168 reviews (168)</td>\n",
       "      <td>168 reviews</td>\n",
       "    </tr>\n",
       "    <tr>\n",
       "      <th>11</th>\n",
       "      <td>https://airbnb.com/rooms/46884165?previous_pag...</td>\n",
       "      <td>Summerlin NW great room with private bathroom!...</td>\n",
       "      <td>Private room in North Las Vegas</td>\n",
       "      <td>1 guest · 1 bedroom · 1 bed · 2 shared baths</td>\n",
       "      <td>$20 / night</td>\n",
       "      <td>Gym·Wifi·Airconditioning·Pool</td>\n",
       "      <td>None</td>\n",
       "      <td>None</td>\n",
       "    </tr>\n",
       "    <tr>\n",
       "      <th>12</th>\n",
       "      <td>https://airbnb.com/rooms/41472772?previous_pag...</td>\n",
       "      <td>Silverado Ranch area bedroom 2 - null - Las Vegas</td>\n",
       "      <td>Private room in Las Vegas</td>\n",
       "      <td>2 guests · 1 bedroom · 1 bed · 1.5 shared baths</td>\n",
       "      <td>$24 / night</td>\n",
       "      <td>Wifi·Selfcheck-in·Airconditioning·Kitchen</td>\n",
       "      <td>Rating 4.74 out of 5;4.7431 reviews (31)</td>\n",
       "      <td>31 reviews</td>\n",
       "    </tr>\n",
       "    <tr>\n",
       "      <th>13</th>\n",
       "      <td>https://airbnb.com/rooms/37003280?previous_pag...</td>\n",
       "      <td>Comfy Room in a Great House. Close to Downtown...</td>\n",
       "      <td>Private room in Las Vegas</td>\n",
       "      <td>2 guests · 1 bedroom · 1 bed · 1 shared bath</td>\n",
       "      <td>$23 / night</td>\n",
       "      <td>Wifi·Airconditioning·Petsallowed·Pool</td>\n",
       "      <td>None</td>\n",
       "      <td>None</td>\n",
       "    </tr>\n",
       "    <tr>\n",
       "      <th>14</th>\n",
       "      <td>https://airbnb.com/rooms/44162190?previous_pag...</td>\n",
       "      <td>Wyndham Grand Desert 2 BR Suite, FRIDAY Check-...</td>\n",
       "      <td>Entire condominium in Las Vegas</td>\n",
       "      <td>8 guests · 2 bedrooms · 4 beds · 2 baths</td>\n",
       "      <td>$65 / night</td>\n",
       "      <td>Wifi·Selfcheck-in·Airconditioning·Pool</td>\n",
       "      <td>Rating 4.80 out of 5;4.805 reviews (5)</td>\n",
       "      <td>5 reviews</td>\n",
       "    </tr>\n",
       "    <tr>\n",
       "      <th>15</th>\n",
       "      <td>https://airbnb.com/rooms/30269388?previous_pag...</td>\n",
       "      <td>Master Bedroom, private full bath, walk-in clo...</td>\n",
       "      <td>Private room in Las Vegas</td>\n",
       "      <td>1 guest · 1 bedroom · 1 bed · 1 shared bath</td>\n",
       "      <td>$24 / night</td>\n",
       "      <td>Wifi·Airconditioning·Kitchen·Freeparking</td>\n",
       "      <td>Rating 5.0 out of 5;5.05 reviews (5)</td>\n",
       "      <td>5 reviews</td>\n",
       "    </tr>\n",
       "    <tr>\n",
       "      <th>16</th>\n",
       "      <td>https://airbnb.com/rooms/24087867?previous_pag...</td>\n",
       "      <td>Private room at best location near center Vega...</td>\n",
       "      <td>Private room in Las Vegas</td>\n",
       "      <td>2 guests · 1 bedroom · 1 bed · 2.5 shared baths</td>\n",
       "      <td>$22 / night</td>\n",
       "      <td>Gym·Wifi·Selfcheck-in·Airconditioning</td>\n",
       "      <td>Rating 4.56 out of 5;4.5652 reviews (52)</td>\n",
       "      <td>52 reviews</td>\n",
       "    </tr>\n",
       "    <tr>\n",
       "      <th>17</th>\n",
       "      <td>https://airbnb.com/rooms/22951918?previous_pag...</td>\n",
       "      <td>Location! Coffee Condo! South Point Casino - n...</td>\n",
       "      <td>Entire townhouse in Las Vegas</td>\n",
       "      <td>3 guests · 1 bedroom · 1 bed · 1 bath</td>\n",
       "      <td>$62 / night</td>\n",
       "      <td>Gym·Wifi·Selfcheck-in·Airconditioning</td>\n",
       "      <td>Rating 4.91 out of 5;4.9111 reviews (11)</td>\n",
       "      <td>11 reviews</td>\n",
       "    </tr>\n",
       "    <tr>\n",
       "      <th>18</th>\n",
       "      <td>https://airbnb.com/rooms/15799481?previous_pag...</td>\n",
       "      <td>No extra charges.   June, July, Aug 2021 only....</td>\n",
       "      <td>Entire apartment in Las Vegas</td>\n",
       "      <td>4 guests · 2 bedrooms · 4 beds · 1 bath</td>\n",
       "      <td>$35 / night</td>\n",
       "      <td>Wifi·Airconditioning·Kitchen·Freeparking</td>\n",
       "      <td>Rating 4.82 out of 5;4.82247 reviews (247)</td>\n",
       "      <td>247 reviews</td>\n",
       "    </tr>\n",
       "    <tr>\n",
       "      <th>19</th>\n",
       "      <td>https://airbnb.com/rooms/47074716?previous_pag...</td>\n",
       "      <td>Cozy Tropical 1 Bed Right Behind The Strat - n...</td>\n",
       "      <td>Entire apartment in Las Vegas</td>\n",
       "      <td>2 guests · 1 bedroom · 1 bed · 1 bath</td>\n",
       "      <td>$40 / night</td>\n",
       "      <td>Airconditioning·Kitchen·Freeparking</td>\n",
       "      <td>None</td>\n",
       "      <td>None</td>\n",
       "    </tr>\n",
       "  </tbody>\n",
       "</table>\n",
       "</div>"
      ],
      "text/plain": [
       "                                                    a  \\\n",
       "0   https://airbnb.com/rooms/47197033?previous_pag...   \n",
       "1   https://airbnb.com/rooms/45827691?previous_pag...   \n",
       "2   https://airbnb.com/rooms/44416011?previous_pag...   \n",
       "3   https://airbnb.com/rooms/21055421?previous_pag...   \n",
       "4   https://airbnb.com/rooms/47237465?previous_pag...   \n",
       "5   https://airbnb.com/rooms/46263193?previous_pag...   \n",
       "6   https://airbnb.com/rooms/47221579?previous_pag...   \n",
       "7   https://airbnb.com/rooms/37289480?previous_pag...   \n",
       "8   https://airbnb.com/rooms/41602679?previous_pag...   \n",
       "9   https://airbnb.com/rooms/45439619?previous_pag...   \n",
       "10  https://airbnb.com/rooms/29337338?previous_pag...   \n",
       "11  https://airbnb.com/rooms/46884165?previous_pag...   \n",
       "12  https://airbnb.com/rooms/41472772?previous_pag...   \n",
       "13  https://airbnb.com/rooms/37003280?previous_pag...   \n",
       "14  https://airbnb.com/rooms/44162190?previous_pag...   \n",
       "15  https://airbnb.com/rooms/30269388?previous_pag...   \n",
       "16  https://airbnb.com/rooms/24087867?previous_pag...   \n",
       "17  https://airbnb.com/rooms/22951918?previous_pag...   \n",
       "18  https://airbnb.com/rooms/15799481?previous_pag...   \n",
       "19  https://airbnb.com/rooms/47074716?previous_pag...   \n",
       "\n",
       "                                                    b  \\\n",
       "0      Condo Next to Desert Shores - null - Las Vegas   \n",
       "1   Great Room in a House close to the strip - nul...   \n",
       "2                        Eggeman 8 - null - Las Vegas   \n",
       "3   Private suite with private bathroom. - null - ...   \n",
       "4   9min from the strip. 1min from the shopping ce...   \n",
       "5   Master bedroom in a new, CLEAN, safe home! - n...   \n",
       "6   Cozy 3rd floor space. Slightly roomy. - null -...   \n",
       "7   Private king master bedroom near center of Veg...   \n",
       "8              Hospitality House 3 - null - Las Vegas   \n",
       "9   Tahiti Village Bora, Bora in Las Vegas 1 BR Su...   \n",
       "10  Beautiful bedroom near center of Vegas “1” - n...   \n",
       "11  Summerlin NW great room with private bathroom!...   \n",
       "12  Silverado Ranch area bedroom 2 - null - Las Vegas   \n",
       "13  Comfy Room in a Great House. Close to Downtown...   \n",
       "14  Wyndham Grand Desert 2 BR Suite, FRIDAY Check-...   \n",
       "15  Master Bedroom, private full bath, walk-in clo...   \n",
       "16  Private room at best location near center Vega...   \n",
       "17  Location! Coffee Condo! South Point Casino - n...   \n",
       "18  No extra charges.   June, July, Aug 2021 only....   \n",
       "19  Cozy Tropical 1 Bed Right Behind The Strat - n...   \n",
       "\n",
       "                                  c  \\\n",
       "0   Entire condominium in Las Vegas   \n",
       "1         Private room in Las Vegas   \n",
       "2   Entire condominium in Las Vegas   \n",
       "3         Private room in Las Vegas   \n",
       "4         Private room in Las Vegas   \n",
       "5         Private room in Las Vegas   \n",
       "6         Private room in Las Vegas   \n",
       "7         Private room in Las Vegas   \n",
       "8         Private room in Las Vegas   \n",
       "9   Entire condominium in Las Vegas   \n",
       "10        Private room in Las Vegas   \n",
       "11  Private room in North Las Vegas   \n",
       "12        Private room in Las Vegas   \n",
       "13        Private room in Las Vegas   \n",
       "14  Entire condominium in Las Vegas   \n",
       "15        Private room in Las Vegas   \n",
       "16        Private room in Las Vegas   \n",
       "17    Entire townhouse in Las Vegas   \n",
       "18    Entire apartment in Las Vegas   \n",
       "19    Entire apartment in Las Vegas   \n",
       "\n",
       "                                                   d            e  \\\n",
       "0              2 guests · 1 bedroom · 1 bed · 1 bath  $70 / night   \n",
       "1       2 guests · 1 bedroom · 1 bed · 1 shared bath  $21 / night   \n",
       "2         4 guests · 2 bedrooms · 3 beds · 1.5 baths  $52 / night   \n",
       "3       1 guest · 1 bedroom · 1 bed · 1 private bath  $23 / night   \n",
       "4     1 guest · 1 bedroom · 1 bed · 1.5 shared baths  $24 / night   \n",
       "5            1 guest · 1 bedroom · 1 bed · 1.5 baths  $29 / night   \n",
       "6   2 guests · 1 bedroom · 0 beds · 1.5 shared baths  $21 / night   \n",
       "7       1 guest · 1 bedroom · 1 bed · 2 shared baths  $16 / night   \n",
       "8        1 guest · 1 bedroom · 1 bed · 1 shared bath  $24 / night   \n",
       "9             4 guests · 1 bedroom · 2 beds · 1 bath  $60 / night   \n",
       "10      2 guests · 1 bedroom · 1 bed · 1 shared bath  $22 / night   \n",
       "11      1 guest · 1 bedroom · 1 bed · 2 shared baths  $20 / night   \n",
       "12   2 guests · 1 bedroom · 1 bed · 1.5 shared baths  $24 / night   \n",
       "13      2 guests · 1 bedroom · 1 bed · 1 shared bath  $23 / night   \n",
       "14          8 guests · 2 bedrooms · 4 beds · 2 baths  $65 / night   \n",
       "15       1 guest · 1 bedroom · 1 bed · 1 shared bath  $24 / night   \n",
       "16   2 guests · 1 bedroom · 1 bed · 2.5 shared baths  $22 / night   \n",
       "17             3 guests · 1 bedroom · 1 bed · 1 bath  $62 / night   \n",
       "18           4 guests · 2 bedrooms · 4 beds · 1 bath  $35 / night   \n",
       "19             2 guests · 1 bedroom · 1 bed · 1 bath  $40 / night   \n",
       "\n",
       "                                                f  \\\n",
       "0               Wifi·Airconditioning·Pool·Kitchen   \n",
       "1   Wifi·Selfcheck-in·Airconditioning·Petsallowed   \n",
       "2           Wifi·Airconditioning·Petsallowed·Pool   \n",
       "3                   Wifi·Pool·Kitchen·Freeparking   \n",
       "4                Gym·Wifi·Airconditioning·Kitchen   \n",
       "5       Wifi·Selfcheck-in·Airconditioning·Kitchen   \n",
       "6        Wifi·Airconditioning·Petsallowed·Kitchen   \n",
       "7        Wifi·Airconditioning·Kitchen·Freeparking   \n",
       "8    Wifi·Airconditioning·Indoorfireplace·Kitchen   \n",
       "9          Wifi·Selfcheck-in·Airconditioning·Pool   \n",
       "10      Wifi·Selfcheck-in·Airconditioning·Kitchen   \n",
       "11                  Gym·Wifi·Airconditioning·Pool   \n",
       "12      Wifi·Selfcheck-in·Airconditioning·Kitchen   \n",
       "13          Wifi·Airconditioning·Petsallowed·Pool   \n",
       "14         Wifi·Selfcheck-in·Airconditioning·Pool   \n",
       "15       Wifi·Airconditioning·Kitchen·Freeparking   \n",
       "16          Gym·Wifi·Selfcheck-in·Airconditioning   \n",
       "17          Gym·Wifi·Selfcheck-in·Airconditioning   \n",
       "18       Wifi·Airconditioning·Kitchen·Freeparking   \n",
       "19            Airconditioning·Kitchen·Freeparking   \n",
       "\n",
       "                                             g            h  \n",
       "0                                         None         None  \n",
       "1       Rating 4.80 out of 5;4.805 reviews (5)    5 reviews  \n",
       "2     Rating 4.92 out of 5;4.9237 reviews (37)   37 reviews  \n",
       "3                                         None         None  \n",
       "4                                         None         None  \n",
       "5                                         None         None  \n",
       "6                                         None         None  \n",
       "7                                         None         None  \n",
       "8     Rating 4.54 out of 5;4.5413 reviews (13)   13 reviews  \n",
       "9         Rating 5.0 out of 5;5.04 reviews (4)    4 reviews  \n",
       "10  Rating 4.33 out of 5;4.33168 reviews (168)  168 reviews  \n",
       "11                                        None         None  \n",
       "12    Rating 4.74 out of 5;4.7431 reviews (31)   31 reviews  \n",
       "13                                        None         None  \n",
       "14      Rating 4.80 out of 5;4.805 reviews (5)    5 reviews  \n",
       "15        Rating 5.0 out of 5;5.05 reviews (5)    5 reviews  \n",
       "16    Rating 4.56 out of 5;4.5652 reviews (52)   52 reviews  \n",
       "17    Rating 4.91 out of 5;4.9111 reviews (11)   11 reviews  \n",
       "18  Rating 4.82 out of 5;4.82247 reviews (247)  247 reviews  \n",
       "19                                        None         None  "
      ]
     },
     "execution_count": 22,
     "metadata": {},
     "output_type": "execute_result"
    }
   ],
   "source": [
    "import pandas as pd\n",
    "\n",
    "def record_dataset(listings, file_path='output.parquet'):\n",
    "    \"\"\"\n",
    "    take scraped room classes and record their information to parquet\n",
    "    \"\"\"\n",
    "    data = []\n",
    "    for l in listings:\n",
    "        a = get_listing_link(l)\n",
    "        b = get_listing_title(l)\n",
    "        c = get_top_row(l)\n",
    "        d = get_room_info(l)\n",
    "        e = get_room_price(l)\n",
    "        f = get_basic_facilities(l)\n",
    "        g = get_room_rating(l)\n",
    "        h = get_n_reviews(l)\n",
    "        out = [a, b, c, d, e, f, g, h]\n",
    "        data.append(out)\n",
    "    names = [l for l in 'abcdefgh']\n",
    "    df = pd.DataFrame(data, columns=names)\n",
    "    df.to_parquet(file_path, index=False)\n",
    "    return df\n",
    "\n",
    "\n",
    "record_dataset(rc)"
   ]
  },
  {
   "cell_type": "code",
   "execution_count": 23,
   "metadata": {},
   "outputs": [
    {
     "ename": "ArrowTypeError",
     "evalue": "(\"Expected bytes, got a 'list' object\", 'Conversion failed for column f with type object')",
     "output_type": "error",
     "traceback": [
      "\u001b[1;31m---------------------------------------------------------------------------\u001b[0m",
      "\u001b[1;31mArrowTypeError\u001b[0m                            Traceback (most recent call last)",
      "\u001b[1;32m<ipython-input-23-9b4005ad985a>\u001b[0m in \u001b[0;36m<module>\u001b[1;34m\u001b[0m\n\u001b[0;32m      1\u001b[0m \u001b[0mlink2\u001b[0m \u001b[1;33m=\u001b[0m \u001b[1;34m'https://www.airbnb.com/s/all?refinement_paths%5B%5D=%2Fhomes&query=las+vegas'\u001b[0m\u001b[1;33m\u001b[0m\u001b[1;33m\u001b[0m\u001b[0m\n\u001b[0;32m      2\u001b[0m \u001b[1;33m\u001b[0m\u001b[0m\n\u001b[1;32m----> 3\u001b[1;33m \u001b[0mrecord_dataset\u001b[0m\u001b[1;33m(\u001b[0m\u001b[0mget_room_classes\u001b[0m\u001b[1;33m(\u001b[0m\u001b[0mget_page\u001b[0m\u001b[1;33m(\u001b[0m\u001b[0mlink2\u001b[0m\u001b[1;33m)\u001b[0m\u001b[1;33m)\u001b[0m\u001b[1;33m,\u001b[0m \u001b[0mfile_path\u001b[0m\u001b[1;33m=\u001b[0m\u001b[1;34m'output2.parquet'\u001b[0m\u001b[1;33m)\u001b[0m\u001b[1;33m\u001b[0m\u001b[1;33m\u001b[0m\u001b[0m\n\u001b[0m",
      "\u001b[1;32m<ipython-input-22-4cf31f935a50>\u001b[0m in \u001b[0;36mrecord_dataset\u001b[1;34m(listings, file_path)\u001b[0m\n\u001b[0;32m     19\u001b[0m     \u001b[0mnames\u001b[0m \u001b[1;33m=\u001b[0m \u001b[1;33m[\u001b[0m\u001b[0ml\u001b[0m \u001b[1;32mfor\u001b[0m \u001b[0ml\u001b[0m \u001b[1;32min\u001b[0m \u001b[1;34m'abcdefgh'\u001b[0m\u001b[1;33m]\u001b[0m\u001b[1;33m\u001b[0m\u001b[1;33m\u001b[0m\u001b[0m\n\u001b[0;32m     20\u001b[0m     \u001b[0mdf\u001b[0m \u001b[1;33m=\u001b[0m \u001b[0mpd\u001b[0m\u001b[1;33m.\u001b[0m\u001b[0mDataFrame\u001b[0m\u001b[1;33m(\u001b[0m\u001b[0mdata\u001b[0m\u001b[1;33m,\u001b[0m \u001b[0mcolumns\u001b[0m\u001b[1;33m=\u001b[0m\u001b[0mnames\u001b[0m\u001b[1;33m)\u001b[0m\u001b[1;33m\u001b[0m\u001b[1;33m\u001b[0m\u001b[0m\n\u001b[1;32m---> 21\u001b[1;33m     \u001b[0mdf\u001b[0m\u001b[1;33m.\u001b[0m\u001b[0mto_parquet\u001b[0m\u001b[1;33m(\u001b[0m\u001b[0mfile_path\u001b[0m\u001b[1;33m,\u001b[0m \u001b[0mindex\u001b[0m\u001b[1;33m=\u001b[0m\u001b[1;32mFalse\u001b[0m\u001b[1;33m)\u001b[0m\u001b[1;33m\u001b[0m\u001b[1;33m\u001b[0m\u001b[0m\n\u001b[0m\u001b[0;32m     22\u001b[0m     \u001b[1;32mreturn\u001b[0m \u001b[0mdf\u001b[0m\u001b[1;33m\u001b[0m\u001b[1;33m\u001b[0m\u001b[0m\n\u001b[0;32m     23\u001b[0m \u001b[1;33m\u001b[0m\u001b[0m\n",
      "\u001b[1;32m~\\Anaconda3\\envs\\scrape\\lib\\site-packages\\pandas\\util\\_decorators.py\u001b[0m in \u001b[0;36mwrapper\u001b[1;34m(*args, **kwargs)\u001b[0m\n\u001b[0;32m    197\u001b[0m                 \u001b[1;32melse\u001b[0m\u001b[1;33m:\u001b[0m\u001b[1;33m\u001b[0m\u001b[1;33m\u001b[0m\u001b[0m\n\u001b[0;32m    198\u001b[0m                     \u001b[0mkwargs\u001b[0m\u001b[1;33m[\u001b[0m\u001b[0mnew_arg_name\u001b[0m\u001b[1;33m]\u001b[0m \u001b[1;33m=\u001b[0m \u001b[0mnew_arg_value\u001b[0m\u001b[1;33m\u001b[0m\u001b[1;33m\u001b[0m\u001b[0m\n\u001b[1;32m--> 199\u001b[1;33m             \u001b[1;32mreturn\u001b[0m \u001b[0mfunc\u001b[0m\u001b[1;33m(\u001b[0m\u001b[1;33m*\u001b[0m\u001b[0margs\u001b[0m\u001b[1;33m,\u001b[0m \u001b[1;33m**\u001b[0m\u001b[0mkwargs\u001b[0m\u001b[1;33m)\u001b[0m\u001b[1;33m\u001b[0m\u001b[1;33m\u001b[0m\u001b[0m\n\u001b[0m\u001b[0;32m    200\u001b[0m \u001b[1;33m\u001b[0m\u001b[0m\n\u001b[0;32m    201\u001b[0m         \u001b[1;32mreturn\u001b[0m \u001b[0mcast\u001b[0m\u001b[1;33m(\u001b[0m\u001b[0mF\u001b[0m\u001b[1;33m,\u001b[0m \u001b[0mwrapper\u001b[0m\u001b[1;33m)\u001b[0m\u001b[1;33m\u001b[0m\u001b[1;33m\u001b[0m\u001b[0m\n",
      "\u001b[1;32m~\\Anaconda3\\envs\\scrape\\lib\\site-packages\\pandas\\core\\frame.py\u001b[0m in \u001b[0;36mto_parquet\u001b[1;34m(self, path, engine, compression, index, partition_cols, **kwargs)\u001b[0m\n\u001b[0;32m   2370\u001b[0m             \u001b[0mindex\u001b[0m\u001b[1;33m=\u001b[0m\u001b[0mindex\u001b[0m\u001b[1;33m,\u001b[0m\u001b[1;33m\u001b[0m\u001b[1;33m\u001b[0m\u001b[0m\n\u001b[0;32m   2371\u001b[0m             \u001b[0mpartition_cols\u001b[0m\u001b[1;33m=\u001b[0m\u001b[0mpartition_cols\u001b[0m\u001b[1;33m,\u001b[0m\u001b[1;33m\u001b[0m\u001b[1;33m\u001b[0m\u001b[0m\n\u001b[1;32m-> 2372\u001b[1;33m             \u001b[1;33m**\u001b[0m\u001b[0mkwargs\u001b[0m\u001b[1;33m,\u001b[0m\u001b[1;33m\u001b[0m\u001b[1;33m\u001b[0m\u001b[0m\n\u001b[0m\u001b[0;32m   2373\u001b[0m         )\n\u001b[0;32m   2374\u001b[0m \u001b[1;33m\u001b[0m\u001b[0m\n",
      "\u001b[1;32m~\\Anaconda3\\envs\\scrape\\lib\\site-packages\\pandas\\io\\parquet.py\u001b[0m in \u001b[0;36mto_parquet\u001b[1;34m(df, path, engine, compression, index, partition_cols, **kwargs)\u001b[0m\n\u001b[0;32m    274\u001b[0m         \u001b[0mindex\u001b[0m\u001b[1;33m=\u001b[0m\u001b[0mindex\u001b[0m\u001b[1;33m,\u001b[0m\u001b[1;33m\u001b[0m\u001b[1;33m\u001b[0m\u001b[0m\n\u001b[0;32m    275\u001b[0m         \u001b[0mpartition_cols\u001b[0m\u001b[1;33m=\u001b[0m\u001b[0mpartition_cols\u001b[0m\u001b[1;33m,\u001b[0m\u001b[1;33m\u001b[0m\u001b[1;33m\u001b[0m\u001b[0m\n\u001b[1;32m--> 276\u001b[1;33m         \u001b[1;33m**\u001b[0m\u001b[0mkwargs\u001b[0m\u001b[1;33m,\u001b[0m\u001b[1;33m\u001b[0m\u001b[1;33m\u001b[0m\u001b[0m\n\u001b[0m\u001b[0;32m    277\u001b[0m     )\n\u001b[0;32m    278\u001b[0m \u001b[1;33m\u001b[0m\u001b[0m\n",
      "\u001b[1;32m~\\Anaconda3\\envs\\scrape\\lib\\site-packages\\pandas\\io\\parquet.py\u001b[0m in \u001b[0;36mwrite\u001b[1;34m(self, df, path, compression, index, partition_cols, **kwargs)\u001b[0m\n\u001b[0;32m     99\u001b[0m             \u001b[0mfrom_pandas_kwargs\u001b[0m\u001b[1;33m[\u001b[0m\u001b[1;34m\"preserve_index\"\u001b[0m\u001b[1;33m]\u001b[0m \u001b[1;33m=\u001b[0m \u001b[0mindex\u001b[0m\u001b[1;33m\u001b[0m\u001b[1;33m\u001b[0m\u001b[0m\n\u001b[0;32m    100\u001b[0m \u001b[1;33m\u001b[0m\u001b[0m\n\u001b[1;32m--> 101\u001b[1;33m         \u001b[0mtable\u001b[0m \u001b[1;33m=\u001b[0m \u001b[0mself\u001b[0m\u001b[1;33m.\u001b[0m\u001b[0mapi\u001b[0m\u001b[1;33m.\u001b[0m\u001b[0mTable\u001b[0m\u001b[1;33m.\u001b[0m\u001b[0mfrom_pandas\u001b[0m\u001b[1;33m(\u001b[0m\u001b[0mdf\u001b[0m\u001b[1;33m,\u001b[0m \u001b[1;33m**\u001b[0m\u001b[0mfrom_pandas_kwargs\u001b[0m\u001b[1;33m)\u001b[0m\u001b[1;33m\u001b[0m\u001b[1;33m\u001b[0m\u001b[0m\n\u001b[0m\u001b[0;32m    102\u001b[0m \u001b[1;33m\u001b[0m\u001b[0m\n\u001b[0;32m    103\u001b[0m         \u001b[1;32mif\u001b[0m \u001b[0mis_fsspec_url\u001b[0m\u001b[1;33m(\u001b[0m\u001b[0mpath\u001b[0m\u001b[1;33m)\u001b[0m \u001b[1;32mand\u001b[0m \u001b[1;34m\"filesystem\"\u001b[0m \u001b[1;32mnot\u001b[0m \u001b[1;32min\u001b[0m \u001b[0mkwargs\u001b[0m\u001b[1;33m:\u001b[0m\u001b[1;33m\u001b[0m\u001b[1;33m\u001b[0m\u001b[0m\n",
      "\u001b[1;32m~\\Anaconda3\\envs\\scrape\\lib\\site-packages\\pyarrow\\table.pxi\u001b[0m in \u001b[0;36mpyarrow.lib.Table.from_pandas\u001b[1;34m()\u001b[0m\n",
      "\u001b[1;32m~\\Anaconda3\\envs\\scrape\\lib\\site-packages\\pyarrow\\pandas_compat.py\u001b[0m in \u001b[0;36mdataframe_to_arrays\u001b[1;34m(df, schema, preserve_index, nthreads, columns, safe)\u001b[0m\n\u001b[0;32m    586\u001b[0m     \u001b[1;32mif\u001b[0m \u001b[0mnthreads\u001b[0m \u001b[1;33m==\u001b[0m \u001b[1;36m1\u001b[0m\u001b[1;33m:\u001b[0m\u001b[1;33m\u001b[0m\u001b[1;33m\u001b[0m\u001b[0m\n\u001b[0;32m    587\u001b[0m         arrays = [convert_column(c, f)\n\u001b[1;32m--> 588\u001b[1;33m                   for c, f in zip(columns_to_convert, convert_fields)]\n\u001b[0m\u001b[0;32m    589\u001b[0m     \u001b[1;32melse\u001b[0m\u001b[1;33m:\u001b[0m\u001b[1;33m\u001b[0m\u001b[1;33m\u001b[0m\u001b[0m\n\u001b[0;32m    590\u001b[0m         \u001b[1;32mfrom\u001b[0m \u001b[0mconcurrent\u001b[0m \u001b[1;32mimport\u001b[0m \u001b[0mfutures\u001b[0m\u001b[1;33m\u001b[0m\u001b[1;33m\u001b[0m\u001b[0m\n",
      "\u001b[1;32m~\\Anaconda3\\envs\\scrape\\lib\\site-packages\\pyarrow\\pandas_compat.py\u001b[0m in \u001b[0;36m<listcomp>\u001b[1;34m(.0)\u001b[0m\n\u001b[0;32m    586\u001b[0m     \u001b[1;32mif\u001b[0m \u001b[0mnthreads\u001b[0m \u001b[1;33m==\u001b[0m \u001b[1;36m1\u001b[0m\u001b[1;33m:\u001b[0m\u001b[1;33m\u001b[0m\u001b[1;33m\u001b[0m\u001b[0m\n\u001b[0;32m    587\u001b[0m         arrays = [convert_column(c, f)\n\u001b[1;32m--> 588\u001b[1;33m                   for c, f in zip(columns_to_convert, convert_fields)]\n\u001b[0m\u001b[0;32m    589\u001b[0m     \u001b[1;32melse\u001b[0m\u001b[1;33m:\u001b[0m\u001b[1;33m\u001b[0m\u001b[1;33m\u001b[0m\u001b[0m\n\u001b[0;32m    590\u001b[0m         \u001b[1;32mfrom\u001b[0m \u001b[0mconcurrent\u001b[0m \u001b[1;32mimport\u001b[0m \u001b[0mfutures\u001b[0m\u001b[1;33m\u001b[0m\u001b[1;33m\u001b[0m\u001b[0m\n",
      "\u001b[1;32m~\\Anaconda3\\envs\\scrape\\lib\\site-packages\\pyarrow\\pandas_compat.py\u001b[0m in \u001b[0;36mconvert_column\u001b[1;34m(col, field)\u001b[0m\n\u001b[0;32m    572\u001b[0m             e.args += (\"Conversion failed for column {!s} with type {!s}\"\n\u001b[0;32m    573\u001b[0m                        .format(col.name, col.dtype),)\n\u001b[1;32m--> 574\u001b[1;33m             \u001b[1;32mraise\u001b[0m \u001b[0me\u001b[0m\u001b[1;33m\u001b[0m\u001b[1;33m\u001b[0m\u001b[0m\n\u001b[0m\u001b[0;32m    575\u001b[0m         \u001b[1;32mif\u001b[0m \u001b[1;32mnot\u001b[0m \u001b[0mfield_nullable\u001b[0m \u001b[1;32mand\u001b[0m \u001b[0mresult\u001b[0m\u001b[1;33m.\u001b[0m\u001b[0mnull_count\u001b[0m \u001b[1;33m>\u001b[0m \u001b[1;36m0\u001b[0m\u001b[1;33m:\u001b[0m\u001b[1;33m\u001b[0m\u001b[1;33m\u001b[0m\u001b[0m\n\u001b[0;32m    576\u001b[0m             raise ValueError(\"Field {} was non-nullable but pandas column \"\n",
      "\u001b[1;32m~\\Anaconda3\\envs\\scrape\\lib\\site-packages\\pyarrow\\pandas_compat.py\u001b[0m in \u001b[0;36mconvert_column\u001b[1;34m(col, field)\u001b[0m\n\u001b[0;32m    566\u001b[0m \u001b[1;33m\u001b[0m\u001b[0m\n\u001b[0;32m    567\u001b[0m         \u001b[1;32mtry\u001b[0m\u001b[1;33m:\u001b[0m\u001b[1;33m\u001b[0m\u001b[1;33m\u001b[0m\u001b[0m\n\u001b[1;32m--> 568\u001b[1;33m             \u001b[0mresult\u001b[0m \u001b[1;33m=\u001b[0m \u001b[0mpa\u001b[0m\u001b[1;33m.\u001b[0m\u001b[0marray\u001b[0m\u001b[1;33m(\u001b[0m\u001b[0mcol\u001b[0m\u001b[1;33m,\u001b[0m \u001b[0mtype\u001b[0m\u001b[1;33m=\u001b[0m\u001b[0mtype_\u001b[0m\u001b[1;33m,\u001b[0m \u001b[0mfrom_pandas\u001b[0m\u001b[1;33m=\u001b[0m\u001b[1;32mTrue\u001b[0m\u001b[1;33m,\u001b[0m \u001b[0msafe\u001b[0m\u001b[1;33m=\u001b[0m\u001b[0msafe\u001b[0m\u001b[1;33m)\u001b[0m\u001b[1;33m\u001b[0m\u001b[1;33m\u001b[0m\u001b[0m\n\u001b[0m\u001b[0;32m    569\u001b[0m         except (pa.ArrowInvalid,\n\u001b[0;32m    570\u001b[0m                 \u001b[0mpa\u001b[0m\u001b[1;33m.\u001b[0m\u001b[0mArrowNotImplementedError\u001b[0m\u001b[1;33m,\u001b[0m\u001b[1;33m\u001b[0m\u001b[1;33m\u001b[0m\u001b[0m\n",
      "\u001b[1;32m~\\Anaconda3\\envs\\scrape\\lib\\site-packages\\pyarrow\\array.pxi\u001b[0m in \u001b[0;36mpyarrow.lib.array\u001b[1;34m()\u001b[0m\n",
      "\u001b[1;32m~\\Anaconda3\\envs\\scrape\\lib\\site-packages\\pyarrow\\array.pxi\u001b[0m in \u001b[0;36mpyarrow.lib._ndarray_to_array\u001b[1;34m()\u001b[0m\n",
      "\u001b[1;32m~\\Anaconda3\\envs\\scrape\\lib\\site-packages\\pyarrow\\error.pxi\u001b[0m in \u001b[0;36mpyarrow.lib.check_status\u001b[1;34m()\u001b[0m\n",
      "\u001b[1;31mArrowTypeError\u001b[0m: (\"Expected bytes, got a 'list' object\", 'Conversion failed for column f with type object')"
     ]
    }
   ],
   "source": [
    "link2 = 'https://www.airbnb.com/s/all?refinement_paths%5B%5D=%2Fhomes&query=las+vegas' \n",
    "\n",
    "record_dataset(get_room_classes(get_page(link2)), file_path='output2.csv')"
   ]
  },
  {
   "cell_type": "code",
   "execution_count": null,
   "metadata": {},
   "outputs": [],
   "source": [
    "pd.read_parquet('output.parquet') == pd.read_parquet('output2.parquet')"
   ]
  },
  {
   "cell_type": "code",
   "execution_count": null,
   "metadata": {},
   "outputs": [],
   "source": [
    "pd.read_parquet('output.parquet')['b'] == pd.read_parquet('output2.parquet')['b']"
   ]
  },
  {
   "cell_type": "markdown",
   "metadata": {},
   "source": [
    "# Notes\n",
    "### get_listing_link()\n",
    "#### Link formatting\n",
    "- Base: https://www.airbnb.com/rooms/45827691 (unlikely in wild)\n",
    "- Scraped: https://www.airbnb.com/rooms/45827691?source_impression_id=p3_1608949724_fGn6tZpchR09VS7I\n",
    "- Clicked: https://www.airbnb.com/rooms/45827691?source_impression_id=p3_1608949764_SigIFnGwmorU%2Bo%2BI\n",
    "\n",
    "### get_listing_title()\n",
    "#### Output\n",
    "- Where does null come from?\n",
    "- Does city (location) come from page title?\n",
    "- `'Great Room in a House close to the strip - null - Las Vegas'`\n",
    "\n",
    "### get_basic_facilities()\n",
    "#### Formatting\n",
    "- `·` separator\n",
    "- `'Wifi·Airconditioning·Pool·Kitchen'`\n",
    "\n",
    "### Search / Base Link\n",
    "- First few listings of these links are the same\n",
    "- 2nd link returns out of order (based on GUI) \n",
    "- Overlapping results returned in different order\n",
    "- 2nd link doesn't return all displayed results (maybe what it's returning are results from a few days ago? no ref.?)\n",
    "  - https://www.airbnb.com/s/all?refinement_paths%5B%5D=%2Fhomes&query=las+vegas\n",
    "  - https://www.airbnb.com/s/las-vegas--nv/homes?tab_id=home_tab&refinement_paths[]=%2Fhomes&source=structured_search_input_header&search_type=search_query"
   ]
  }
 ],
 "metadata": {
  "kernelspec": {
   "display_name": "Python 3",
   "language": "python",
   "name": "python3"
  },
  "language_info": {
   "codemirror_mode": {
    "name": "ipython",
    "version": 3
   },
   "file_extension": ".py",
   "mimetype": "text/x-python",
   "name": "python",
   "nbconvert_exporter": "python",
   "pygments_lexer": "ipython3",
   "version": "3.7.9"
  }
 },
 "nbformat": 4,
 "nbformat_minor": 4
}
